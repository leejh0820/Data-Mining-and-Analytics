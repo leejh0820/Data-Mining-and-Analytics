{
  "nbformat": 4,
  "nbformat_minor": 0,
  "metadata": {
    "kernelspec": {
      "display_name": "Python 3",
      "language": "python",
      "name": "python3"
    },
    "language_info": {
      "codemirror_mode": {
        "name": "ipython",
        "version": 3
      },
      "file_extension": ".py",
      "mimetype": "text/x-python",
      "name": "python",
      "nbconvert_exporter": "python",
      "pygments_lexer": "ipython3",
      "version": "3.6.9"
    },
    "colab": {
      "provenance": []
    }
  },
  "cells": [
    {
      "cell_type": "markdown",
      "metadata": {
        "id": "vKduyi9dItO4"
      },
      "source": [
        "DATA MINING & ANALYTICS (2023)\n",
        "\n",
        "Make sure you fill in any place that says `YOUR CODE HERE` or `YOUR ANSWER HERE`, as well as your name below:"
      ]
    },
    {
      "cell_type": "code",
      "metadata": {
        "id": "FsEVbU41ItO7"
      },
      "source": [
        "NAME = \"Jeonghyun Lee\""
      ],
      "execution_count": 1,
      "outputs": []
    },
    {
      "cell_type": "markdown",
      "metadata": {
        "id": "M7sDljEMItPA"
      },
      "source": [
        "---"
      ]
    },
    {
      "cell_type": "markdown",
      "metadata": {
        "deletable": false,
        "editable": false,
        "nbgrader": {
          "checksum": "720281502b9b9c7f8930d61c682cb061",
          "grade": false,
          "grade_id": "cell-731531e531b99c39",
          "locked": true,
          "schema_version": 1,
          "solution": false
        },
        "id": "LJNmSc7sItPB"
      },
      "source": [
        "# Lab 1 - Data Preprocessing\n",
        "\n",
        "Data transformations are useful for preparing a dataset for answering a particular question. Part of this process involves generating features from the dataset you find relevant to the question at hand. For this lab, we will be using a Yelp reviews dataset. Each row in the dataset depicts one review along with the features of the review (the reviewer, the review text, etc.). The goal of this lab is to eventually convert this reviews dataset into a *reviewers* dataset by creating different features describing each reviewer.\n",
        "\n",
        "The submission for this assignment should be done *individually*, but you are allowed to work in groups of 2.\n",
        "\n",
        "# Google Colab\n",
        "\n",
        "Colab is a free online platform provided by Google that allows you to execute python code without any installations on your local machine. Without Colab (using Jupyter notebooks or the command line), you would have to install various packages and manage dependencies.\n",
        "\n",
        "In Colab, you can simply import them, or even install them (for that particular session). Colab can be accessed at the link: https://colab.research.google.com\n",
        "\n",
        "\n",
        "**IMPORTANT: This lab has been shared with only read permissions to you. Make sure to click File -> \"Save a Copy in Drive\" so that you can get your own copy that WILL SAVE YOUR PROGRESS in your own Colab environment.**\n",
        "\n",
        "**If you download the .ipynb and want to further edit the notebook, you will need to make sure you have [Jupyter](https://jupyter.org/install) installed locally so you can view the notebook properly (not as a JSON file).**\n",
        "\n",
        "# Environment Setup\n",
        "Run this cell to setup your environment."
      ]
    },
    {
      "cell_type": "code",
      "metadata": {
        "deletable": false,
        "editable": false,
        "nbgrader": {
          "checksum": "c4f9a2a35aae087d70dccad8514e5e4f",
          "grade": false,
          "grade_id": "cell-88d067a4407f02bf",
          "locked": true,
          "schema_version": 1,
          "solution": false
        },
        "id": "LIH96tFzItPC",
        "outputId": "6532b766-f6cf-4b62-929c-695d9a4529da",
        "colab": {
          "base_uri": "https://localhost:8080/"
        }
      },
      "source": [
        "# Importing libraries\n",
        "import numpy as np\n",
        "import pandas as pd\n",
        "import math\n",
        "import os\n",
        "print('Libraries Imported')\n",
        "\n",
        "#DOWNLOADING DATASET IF NOT PRESENT\n",
        "!wget -nc http://askoski.berkeley.edu/~zp/yelp_reviews.csv\n",
        "\n",
        "#!unzip yelp_reviews.zip\n",
        "print('Dataset Downloaded: yelp_reviews.csv')\n",
        "df=pd.read_csv('yelp_reviews.csv')\n",
        "print(df.head())\n",
        "\n",
        "print('Setup Complete')"
      ],
      "execution_count": 2,
      "outputs": [
        {
          "output_type": "stream",
          "name": "stdout",
          "text": [
            "Libraries Imported\n",
            "--2023-09-06 06:33:57--  http://askoski.berkeley.edu/~zp/yelp_reviews.csv\n",
            "Resolving askoski.berkeley.edu (askoski.berkeley.edu)... 169.229.192.179\n",
            "Connecting to askoski.berkeley.edu (askoski.berkeley.edu)|169.229.192.179|:80... connected.\n",
            "HTTP request sent, awaiting response... 200 OK\n",
            "Length: 376638166 (359M) [text/csv]\n",
            "Saving to: ‘yelp_reviews.csv’\n",
            "\n",
            "yelp_reviews.csv    100%[===================>] 359.19M  38.3MB/s    in 9.8s    \n",
            "\n",
            "2023-09-06 06:34:07 (36.5 MB/s) - ‘yelp_reviews.csv’ saved [376638166/376638166]\n",
            "\n",
            "Dataset Downloaded: yelp_reviews.csv\n",
            "     type             business_id                 user_id  stars  \\\n",
            "0  review  mxrXVZWc6PWk81gvOVNOUw  mv7shusL4Xb6TylVYBv4CA      4   \n",
            "1  review  mxrXVZWc6PWk81gvOVNOUw  0aN5QPhs-VwK2vusKG0waQ      5   \n",
            "2  review  kK4AzZ0YWI-U2G-paAL7Fg  0aN5QPhs-VwK2vusKG0waQ      5   \n",
            "3  review  mxrXVZWc6PWk81gvOVNOUw  1JUwyYab-uJzEx_FRd81Zg      5   \n",
            "4  review  mxrXVZWc6PWk81gvOVNOUw  2Zd3Xy8hUVmZkNg7RyNjhg      4   \n",
            "\n",
            "                                                text        date  cool_votes  \\\n",
            "0  Definitely try the duck dish.   I rank it amon...  2011-06-13           0   \n",
            "1  Big Ass Burger was awesome! Great $5 mojitos. ...  2011-06-25           1   \n",
            "2             Unbelievable sandwiches! Good service.  2011-06-25           0   \n",
            "3  Awesome, awesome, awesome! My mom and sister a...  2011-07-18           1   \n",
            "4  I had the ribs they were great.  The beer sele...  2011-07-19           1   \n",
            "\n",
            "   useful_votes  funny_votes  \n",
            "0             0            0  \n",
            "1             0            0  \n",
            "2             0            0  \n",
            "3             1            0  \n",
            "4             0            1  \n",
            "Setup Complete\n"
          ]
        }
      ]
    },
    {
      "cell_type": "markdown",
      "metadata": {
        "deletable": false,
        "editable": false,
        "nbgrader": {
          "checksum": "51be56b978a555a682bd1a02d85a7434",
          "grade": false,
          "grade_id": "cell-63034c0f0a81dc85",
          "locked": true,
          "schema_version": 1,
          "solution": false
        },
        "id": "esN8qRHkItPG"
      },
      "source": [
        "**Q1: What was the highest number of reviews for any one `business_id`?**\n",
        "- For this task, we will need to group the reviews dataset by `business_id`. This will aggregate data for each business, which is what we need for this task. This can be done using the [groupby](https://pandas.pydata.org/pandas-docs/stable/generated/pandas.DataFrame.groupby.html) method. Some pointers of how you could go about this question are listed below:\n",
        "    - ```yelp_businesses = yelp_dataset.groupby('business_id').size() ```\n",
        "    - The `.size()` function counts the number of instances for each `business_id`, which gives us the number of reviews as each instance in this dataset is a review.\n",
        "    - The following command will sort this list, after which you can take note of the highest value: ```sorted_yelp_businesses = yelp_businesses.sort_values(ascending=False, inplace=False)```\n",
        "    - This approach allows you to see the data structure being used in the sort. A quicker approach to getting the max would be to use the max function: ```max(yelp_businesses)```\n",
        "<br>\n",
        "<br>"
      ]
    },
    {
      "cell_type": "code",
      "metadata": {
        "deletable": false,
        "nbgrader": {
          "checksum": "a4b3a58ab839a93b83e514e1db0c11e3",
          "grade": false,
          "grade_id": "cell-b9fd95d084732ea0",
          "locked": false,
          "schema_version": 1,
          "solution": true
        },
        "id": "AbKk0rohItPG"
      },
      "source": [
        "#Make sure you return the answer value in this function\n",
        "def q1(df):\n",
        "\n",
        "    # YOUR CODE HERE\n",
        "    new_business_id = df.groupby('business_id').size()\n",
        "    max_business_id = max(new_business_id)\n",
        "    return max_business_id\n",
        "\n",
        "    raise NotImplementedError()"
      ],
      "execution_count": 3,
      "outputs": []
    },
    {
      "cell_type": "code",
      "metadata": {
        "deletable": false,
        "editable": false,
        "nbgrader": {
          "checksum": "e989434a5e20d93eb1500308f7ecf163",
          "grade": true,
          "grade_id": "cell-1d1402069f0f336b",
          "locked": true,
          "points": 0.5,
          "schema_version": 1,
          "solution": false
        },
        "id": "rzD83og_ItPJ",
        "colab": {
          "base_uri": "https://localhost:8080/"
        },
        "outputId": "7923d0c3-3fc1-4c0b-a313-4dfa52ee310a"
      },
      "source": [
        "#This is a graded cell, do not edit\n",
        "print(q1(df))"
      ],
      "execution_count": 4,
      "outputs": [
        {
          "output_type": "stream",
          "name": "stdout",
          "text": [
            "4128\n"
          ]
        }
      ]
    },
    {
      "cell_type": "markdown",
      "metadata": {
        "deletable": false,
        "editable": false,
        "nbgrader": {
          "checksum": "6cde0278ab840df1fb90b16ca8c14a8a",
          "grade": false,
          "grade_id": "cell-c998b50208612779",
          "locked": true,
          "schema_version": 1,
          "solution": false
        },
        "id": "fZ_McPZ-ItPL"
      },
      "source": [
        "**Q2: On average, how many reviews did each business get?**"
      ]
    },
    {
      "cell_type": "code",
      "metadata": {
        "deletable": false,
        "nbgrader": {
          "checksum": "6ff0153f15cd01aa6d958646c22cd2eb",
          "grade": false,
          "grade_id": "cell-bda529e7277d1978",
          "locked": false,
          "schema_version": 1,
          "solution": true
        },
        "id": "0V-m-GMAItPM"
      },
      "source": [
        "#Make sure you return the answer value in this function\n",
        "def q2(df):\n",
        "    new_business_id = df.groupby('business_id').size()\n",
        "    average_business_id = np.mean(new_business_id)\n",
        "    return average_business_id\n",
        "    # YOUR CODE HERE\n",
        "    raise NotImplementedError()"
      ],
      "execution_count": 5,
      "outputs": []
    },
    {
      "cell_type": "code",
      "metadata": {
        "deletable": false,
        "editable": false,
        "nbgrader": {
          "checksum": "72d8375074f6e5eb294215044c460696",
          "grade": true,
          "grade_id": "cell-febce0a51b6da9da",
          "locked": true,
          "points": 0.5,
          "schema_version": 1,
          "solution": false
        },
        "id": "V_9IXDmvItPO",
        "colab": {
          "base_uri": "https://localhost:8080/"
        },
        "outputId": "74ac2e4e-4e0c-40da-c2e2-efcce28aa121"
      },
      "source": [
        "#This is a graded cell, do not edit\n",
        "print(q2(df))\n"
      ],
      "execution_count": 6,
      "outputs": [
        {
          "output_type": "stream",
          "name": "stdout",
          "text": [
            "12.63413902163123\n"
          ]
        }
      ]
    },
    {
      "cell_type": "markdown",
      "metadata": {
        "deletable": false,
        "editable": false,
        "nbgrader": {
          "checksum": "d6874779b6c6d2e361fc9891455b6960",
          "grade": false,
          "grade_id": "cell-a568a611d600caa2",
          "locked": true,
          "schema_version": 1,
          "solution": false
        },
        "id": "T9bRVaYZItPQ"
      },
      "source": [
        "**Q3: What is the average number of reviews per reviewer?**"
      ]
    },
    {
      "cell_type": "code",
      "metadata": {
        "deletable": false,
        "nbgrader": {
          "checksum": "369c594937118aa98e0aea635c345943",
          "grade": false,
          "grade_id": "cell-f92e05c4b7a28174",
          "locked": false,
          "schema_version": 1,
          "solution": true
        },
        "id": "J58jfsKTItPQ"
      },
      "source": [
        "#Make sure you return the answer value in this function\n",
        "def q3(df):\n",
        "\n",
        "    new_user_id = df.groupby('user_id').size()\n",
        "    average_user_id = np.mean(new_user_id)\n",
        "    return average_user_id\n",
        "\n",
        "    # YOUR CODE HERE\n",
        "    raise NotImplementedError()"
      ],
      "execution_count": 7,
      "outputs": []
    },
    {
      "cell_type": "code",
      "metadata": {
        "deletable": false,
        "editable": false,
        "nbgrader": {
          "checksum": "7ed7ddd4ec46674bdd89445dc1034175",
          "grade": true,
          "grade_id": "cell-d76279e8e7d4a79f",
          "locked": true,
          "points": 0.5,
          "schema_version": 1,
          "solution": false
        },
        "id": "Wx5wcx6pItPT",
        "colab": {
          "base_uri": "https://localhost:8080/"
        },
        "outputId": "45a004f4-410d-4737-c29b-5873290fb728"
      },
      "source": [
        "#This is a graded cell, do not edit\n",
        "print(q3(df))\n"
      ],
      "execution_count": 8,
      "outputs": [
        {
          "output_type": "stream",
          "name": "stdout",
          "text": [
            "3.188511934933203\n"
          ]
        }
      ]
    },
    {
      "cell_type": "markdown",
      "metadata": {
        "deletable": false,
        "editable": false,
        "nbgrader": {
          "checksum": "e8d5fd42acde59c3bd19cc07db76ac1c",
          "grade": false,
          "grade_id": "cell-c76f8dc8692f2472",
          "locked": true,
          "schema_version": 1,
          "solution": false
        },
        "id": "oa0doTGiItPW"
      },
      "source": [
        "**Q4: Calculate the total number of cool votes per reviewer, then average these totals across reviewers.**"
      ]
    },
    {
      "cell_type": "code",
      "metadata": {
        "deletable": false,
        "nbgrader": {
          "checksum": "2db144055be1d1f506af2bbdcf924e58",
          "grade": false,
          "grade_id": "cell-f06192fbabe75195",
          "locked": false,
          "schema_version": 1,
          "solution": true
        },
        "id": "sWuWYjrSItPX"
      },
      "source": [
        "#Make sure you return the answer value in this function\n",
        "def q4(df):\n",
        "\n",
        "    num_cool = df[['user_id', 'cool_votes']]\n",
        "    num_cool = num_cool.groupby('user_id').sum()\n",
        "    return np.mean(num_cool)\n",
        "\n",
        "    # YOUR CODE HERE\n",
        "    raise NotImplementedError()"
      ],
      "execution_count": 9,
      "outputs": []
    },
    {
      "cell_type": "code",
      "metadata": {
        "deletable": false,
        "editable": false,
        "nbgrader": {
          "checksum": "70b555da34836694349c4923beb1950b",
          "grade": true,
          "grade_id": "cell-cabbe00e6fee304e",
          "locked": true,
          "points": 0.5,
          "schema_version": 1,
          "solution": false
        },
        "id": "z3o9lMo-ItPZ",
        "colab": {
          "base_uri": "https://localhost:8080/"
        },
        "outputId": "f81e9a1f-1efc-4c7b-d4ec-7a3fda278650"
      },
      "source": [
        "#This is a graded cell, do not edit\n",
        "print(q4(df))\n"
      ],
      "execution_count": 10,
      "outputs": [
        {
          "output_type": "stream",
          "name": "stdout",
          "text": [
            "cool_votes    1.241728\n",
            "dtype: float64\n"
          ]
        },
        {
          "output_type": "stream",
          "name": "stderr",
          "text": [
            "/usr/local/lib/python3.10/dist-packages/numpy/core/fromnumeric.py:3430: FutureWarning: In a future version, DataFrame.mean(axis=None) will return a scalar mean over the entire DataFrame. To retain the old behavior, use 'frame.mean(axis=0)' or just 'frame.mean()'\n",
            "  return mean(axis=axis, dtype=dtype, out=out, **kwargs)\n"
          ]
        }
      ]
    },
    {
      "cell_type": "markdown",
      "metadata": {
        "deletable": false,
        "editable": false,
        "nbgrader": {
          "checksum": "1e80dfdd5311c1dd540fafe446ad10c3",
          "grade": false,
          "grade_id": "cell-9e278b8cd31ace62",
          "locked": true,
          "schema_version": 1,
          "solution": false
        },
        "id": "fDD4Lh8fItPb"
      },
      "source": [
        "**Q5: Calculate the total number of funny votes per reviewer, then average these totals across reviewers.**"
      ]
    },
    {
      "cell_type": "code",
      "metadata": {
        "deletable": false,
        "nbgrader": {
          "checksum": "cb6393f6479792516d064ab368490d90",
          "grade": false,
          "grade_id": "cell-93635f0a6f297df9",
          "locked": false,
          "schema_version": 1,
          "solution": true
        },
        "id": "KiVt8qB7ItPc"
      },
      "source": [
        "#Make sure you return the answer value in this function\n",
        "def q5(df):\n",
        "\n",
        "    num_funny = df.groupby('user_id')['funny_votes'].sum()\n",
        "    return np.mean(num_funny)\n",
        "\n",
        "    # YOUR CODE HERE\n",
        "    raise NotImplementedError()"
      ],
      "execution_count": 11,
      "outputs": []
    },
    {
      "cell_type": "code",
      "metadata": {
        "deletable": false,
        "editable": false,
        "nbgrader": {
          "checksum": "d3be5fcefa0f798be6504de7f8f1b344",
          "grade": true,
          "grade_id": "cell-4c41413214d2d4f1",
          "locked": true,
          "points": 0.5,
          "schema_version": 1,
          "solution": false
        },
        "id": "bWzUljWAItPe",
        "colab": {
          "base_uri": "https://localhost:8080/"
        },
        "outputId": "3b868f24-fd26-4309-e475-c64c593bc6be"
      },
      "source": [
        "#This is a graded cell, do not edit\n",
        "print(q5(df))\n"
      ],
      "execution_count": 12,
      "outputs": [
        {
          "output_type": "stream",
          "name": "stdout",
          "text": [
            "1.10126486404605\n"
          ]
        }
      ]
    },
    {
      "cell_type": "markdown",
      "metadata": {
        "deletable": false,
        "editable": false,
        "nbgrader": {
          "checksum": "e62dd2a28323b8d943f63dda321c3aea",
          "grade": false,
          "grade_id": "cell-9554ed7bdee76fb1",
          "locked": true,
          "schema_version": 1,
          "solution": false
        },
        "id": "qx0rBKw9ItPg"
      },
      "source": [
        "**Q6: Calculate the total number of useful votes each business get, then average these totals across business_ids.**"
      ]
    },
    {
      "cell_type": "code",
      "metadata": {
        "deletable": false,
        "nbgrader": {
          "checksum": "4375ea8e9efa96b5ea65a2f4f553faad",
          "grade": false,
          "grade_id": "cell-2cebd87b7f8b37d1",
          "locked": false,
          "schema_version": 1,
          "solution": true
        },
        "id": "KIYaRM3uItPh"
      },
      "source": [
        "#Make sure you return the answer in this function\n",
        "def q6(df):\n",
        "\n",
        "    num_useful = df.groupby('business_id')['useful_votes'].sum()\n",
        "    return np.mean(num_useful)\n",
        "\n",
        "    # YOUR CODE HERE\n",
        "    raise NotImplementedError()"
      ],
      "execution_count": 13,
      "outputs": []
    },
    {
      "cell_type": "code",
      "metadata": {
        "deletable": false,
        "editable": false,
        "nbgrader": {
          "checksum": "2435ef28744576ab65e21558b65e0a5e",
          "grade": true,
          "grade_id": "cell-1a546329acbcd0e4",
          "locked": true,
          "points": 0.5,
          "schema_version": 1,
          "solution": false
        },
        "id": "xrNe4FWdItPj",
        "colab": {
          "base_uri": "https://localhost:8080/"
        },
        "outputId": "82a14bd9-c386-4339-8d47-8e02470b4585"
      },
      "source": [
        "#This is a graded cell, do not edit\n",
        "print(q6(df))\n"
      ],
      "execution_count": 14,
      "outputs": [
        {
          "output_type": "stream",
          "name": "stdout",
          "text": [
            "9.844472147193942\n"
          ]
        }
      ]
    },
    {
      "cell_type": "markdown",
      "metadata": {
        "deletable": false,
        "editable": false,
        "nbgrader": {
          "checksum": "560323764f6c0effd9615228a4dd9537",
          "grade": false,
          "grade_id": "cell-328aa1a4c9a958d8",
          "locked": true,
          "schema_version": 1,
          "solution": false
        },
        "id": "yUBt7rj9ItP-"
      },
      "source": [
        "**Q7: On average, what percentage of a reviewer's votes are cool votes?**\n",
        "\n",
        "(hint1: calculate the percentage of cool votes for each reviewer, then average this percentage across reviewers)\n",
        "\n",
        "(hint2: you should discard reviewers who have absolutely no votes - from cool, funny, or useful votes - from your calculation)"
      ]
    },
    {
      "cell_type": "code",
      "metadata": {
        "deletable": false,
        "nbgrader": {
          "checksum": "c4ca0edbf727b2adc41527ebb2129cef",
          "grade": false,
          "grade_id": "cell-54fe5dd9777347a1",
          "locked": false,
          "schema_version": 1,
          "solution": true
        },
        "id": "LuFzcyytItP-"
      },
      "source": [
        "#Make sure you return the answer in this function\n",
        "#Remember to multiply by 100 for percentages\n",
        "def q7(df):\n",
        "  df['total_votes'] = df['cool_votes'] + df['funny_votes'] + df['useful_votes']\n",
        "  reviewer_votes = df.groupby('user_id').agg({\n",
        "        'cool_votes': 'sum',\n",
        "        'funny_votes': 'sum',\n",
        "        'useful_votes': 'sum',\n",
        "        'total_votes': 'sum'\n",
        "    })\n",
        "\n",
        "\n",
        "  cool_votes = reviewer_votes[reviewer_votes['total_votes'] > 0]\n",
        "  cool_votes['cool_percentage'] = (cool_votes['cool_votes'] / cool_votes['total_votes']) * 100\n",
        "\n",
        "\n",
        "  return cool_votes['cool_percentage'].mean()\n",
        "\n",
        "  # YOUR CODE HERE\n",
        "  raise NotImplementedError()"
      ],
      "execution_count": 23,
      "outputs": []
    },
    {
      "cell_type": "code",
      "metadata": {
        "deletable": false,
        "editable": false,
        "nbgrader": {
          "checksum": "6ba2d96b43cc0796b9c8ec31e17fefe9",
          "grade": true,
          "grade_id": "cell-594b1121d785d15e",
          "locked": true,
          "points": 0.5,
          "schema_version": 1,
          "solution": false
        },
        "id": "ftY6isjeItQA",
        "colab": {
          "base_uri": "https://localhost:8080/"
        },
        "outputId": "23bab892-0d24-48c4-aeb0-e24f7ec74786"
      },
      "source": [
        "#This is a graded cell, do not edit\n",
        "#Remember to multiply by 100 for percentages\n",
        "print(round(q7(df),2))\n"
      ],
      "execution_count": 24,
      "outputs": [
        {
          "output_type": "stream",
          "name": "stdout",
          "text": [
            "19.27\n"
          ]
        },
        {
          "output_type": "stream",
          "name": "stderr",
          "text": [
            "<ipython-input-23-520532670c80>:14: SettingWithCopyWarning: \n",
            "A value is trying to be set on a copy of a slice from a DataFrame.\n",
            "Try using .loc[row_indexer,col_indexer] = value instead\n",
            "\n",
            "See the caveats in the documentation: https://pandas.pydata.org/pandas-docs/stable/user_guide/indexing.html#returning-a-view-versus-a-copy\n",
            "  cool_votes['cool_percentage'] = (cool_votes['cool_votes'] / cool_votes['total_votes']) * 100\n"
          ]
        }
      ]
    },
    {
      "cell_type": "markdown",
      "metadata": {
        "deletable": false,
        "editable": false,
        "nbgrader": {
          "checksum": "f7ca49268591f6d357d5e4d4be17e3c9",
          "grade": false,
          "grade_id": "cell-8b434399df89705e",
          "locked": true,
          "schema_version": 1,
          "solution": false
        },
        "id": "zKe8LJJLItQC"
      },
      "source": [
        "**Q8: On average, what percentage of a reviewer's votes are funny votes?**\n",
        "\n",
        "(hint1: calculate the percentage of funny votes for each reviewer, then average this percentage across reviewers)\n",
        "\n",
        "(hint2: you should discard reviewers who have zero total votes from your calculation)"
      ]
    },
    {
      "cell_type": "code",
      "metadata": {
        "deletable": false,
        "nbgrader": {
          "checksum": "b869bd5447e8ea81d0af3cae06012b94",
          "grade": false,
          "grade_id": "cell-a3dc739b16a53957",
          "locked": false,
          "schema_version": 1,
          "solution": true
        },
        "id": "DkXVxKdXItQC"
      },
      "source": [
        "#Make sure you return the answer in this function\n",
        "#Remember to multiply by 100 for percentages\n",
        "def q8(df):\n",
        "    df['total_votes'] = df['cool_votes'] + df['funny_votes'] + df['useful_votes']\n",
        "    reviewer_votes = df.groupby('user_id').agg({\n",
        "        'cool_votes': 'sum',\n",
        "        'funny_votes': 'sum',\n",
        "        'useful_votes': 'sum',\n",
        "        'total_votes': 'sum'\n",
        "    })\n",
        "\n",
        "    funny_votes = reviewer_votes[reviewer_votes['total_votes'] > 0]\n",
        "    funny_votes['funny_percentage'] = (funny_votes['funny_votes'] / funny_votes['total_votes']) * 100\n",
        "\n",
        "    return funny_votes['funny_percentage'].mean()\n",
        "    # YOUR CODE HERE\n",
        "    raise NotImplementedError()"
      ],
      "execution_count": 25,
      "outputs": []
    },
    {
      "cell_type": "code",
      "metadata": {
        "deletable": false,
        "editable": false,
        "nbgrader": {
          "checksum": "2ef3655caaaedc3e433262c7db94fb77",
          "grade": true,
          "grade_id": "cell-e7fdee0fd548baf1",
          "locked": true,
          "points": 0.5,
          "schema_version": 1,
          "solution": false
        },
        "id": "q6uEzM9HItQE",
        "colab": {
          "base_uri": "https://localhost:8080/"
        },
        "outputId": "d6ffc466-25e3-47aa-f35a-0bcdc8e747c6"
      },
      "source": [
        "#This is a graded cell, do not edit\n",
        "print(round(q8(df),2))\n"
      ],
      "execution_count": 26,
      "outputs": [
        {
          "output_type": "stream",
          "name": "stdout",
          "text": [
            "18.26\n"
          ]
        },
        {
          "output_type": "stream",
          "name": "stderr",
          "text": [
            "<ipython-input-25-6453eb377085>:13: SettingWithCopyWarning: \n",
            "A value is trying to be set on a copy of a slice from a DataFrame.\n",
            "Try using .loc[row_indexer,col_indexer] = value instead\n",
            "\n",
            "See the caveats in the documentation: https://pandas.pydata.org/pandas-docs/stable/user_guide/indexing.html#returning-a-view-versus-a-copy\n",
            "  funny_votes['funny_percentage'] = (funny_votes['funny_votes'] / funny_votes['total_votes']) * 100\n"
          ]
        }
      ]
    },
    {
      "cell_type": "markdown",
      "metadata": {
        "deletable": false,
        "editable": false,
        "nbgrader": {
          "checksum": "3ce1c8eefc6053b8515dc4218c5a0afb",
          "grade": false,
          "grade_id": "cell-40cd96c922286117",
          "locked": true,
          "schema_version": 1,
          "solution": false
        },
        "id": "wYs2eqhSItQI"
      },
      "source": [
        "**Q9: On average, what percentage of a reviewer's votes are useful votes?**\n",
        "\n",
        "(hint1: calculate the percentage of useful votes for each reviewer, then average this percentage across reviewers)\n",
        "\n",
        "(hint2: you should discard reviewers who have zero total votes from your calculation)"
      ]
    },
    {
      "cell_type": "code",
      "metadata": {
        "deletable": false,
        "nbgrader": {
          "checksum": "c8e322eafbf209672785a2c9f7c97f52",
          "grade": false,
          "grade_id": "cell-38769f4cbbe9cb8f",
          "locked": false,
          "schema_version": 1,
          "solution": true
        },
        "id": "56CBDjgrItQI"
      },
      "source": [
        "#Make sure you return the answer in this function\n",
        "def q9(df):\n",
        "\n",
        "    df['total_votes'] = df['cool_votes'] + df['funny_votes'] + df['useful_votes']\n",
        "    reviewer_votes = df.groupby('user_id').agg({\n",
        "        'cool_votes': 'sum',\n",
        "        'funny_votes': 'sum',\n",
        "        'useful_votes': 'sum',\n",
        "        'total_votes': 'sum'\n",
        "    })\n",
        "\n",
        "\n",
        "    useful_votes = reviewer_votes[reviewer_votes['total_votes'] > 0]\n",
        "    useful_votes['useful_percentage'] = (useful_votes['useful_votes'] / useful_votes['total_votes']) * 100\n",
        "\n",
        "\n",
        "    return useful_votes['useful_percentage'].mean()\n",
        "    # YOUR CODE HERE\n",
        "    raise NotImplementedError()"
      ],
      "execution_count": 27,
      "outputs": []
    },
    {
      "cell_type": "code",
      "metadata": {
        "deletable": false,
        "editable": false,
        "nbgrader": {
          "checksum": "d3aeca2366b4c12d564167261c6bc6a2",
          "grade": true,
          "grade_id": "cell-590fb1425068cc06",
          "locked": true,
          "points": 0.5,
          "schema_version": 1,
          "solution": false
        },
        "id": "LvE8ZWSOItQL",
        "colab": {
          "base_uri": "https://localhost:8080/"
        },
        "outputId": "98ce92b6-0b95-420a-8891-49ad48beffab"
      },
      "source": [
        "#This is a graded cell, do not edit\n",
        "print(round(q9(df),2))\n"
      ],
      "execution_count": 28,
      "outputs": [
        {
          "output_type": "stream",
          "name": "stdout",
          "text": [
            "62.47\n"
          ]
        },
        {
          "output_type": "stream",
          "name": "stderr",
          "text": [
            "<ipython-input-27-684b624337bf>:14: SettingWithCopyWarning: \n",
            "A value is trying to be set on a copy of a slice from a DataFrame.\n",
            "Try using .loc[row_indexer,col_indexer] = value instead\n",
            "\n",
            "See the caveats in the documentation: https://pandas.pydata.org/pandas-docs/stable/user_guide/indexing.html#returning-a-view-versus-a-copy\n",
            "  useful_votes['useful_percentage'] = (useful_votes['useful_votes'] / useful_votes['total_votes']) * 100\n"
          ]
        }
      ]
    },
    {
      "cell_type": "markdown",
      "metadata": {
        "deletable": false,
        "editable": false,
        "nbgrader": {
          "checksum": "2efdbde3ea13f0e1829d7488da2c6d92",
          "grade": false,
          "grade_id": "cell-615a3d7b2c4e0e26",
          "locked": true,
          "schema_version": 1,
          "solution": false
        },
        "id": "2ixankjPItQO"
      },
      "source": [
        "**Q10: Find the average review text length (in non-space characters).**"
      ]
    },
    {
      "cell_type": "code",
      "metadata": {
        "deletable": false,
        "nbgrader": {
          "checksum": "59cc81340d9a1967bd6d3a0ffcacdcf3",
          "grade": false,
          "grade_id": "cell-75ec15303c64c506",
          "locked": false,
          "schema_version": 1,
          "solution": true
        },
        "id": "qgwHiHaVItQP"
      },
      "source": [
        "#Make sure you return the answer in this function\n",
        "def q10(df):\n",
        "    average_length = df['text'].str.replace(' ', '').str.len()\n",
        "    return average_length.mean()\n",
        "    # YOUR CODE HERE\n",
        "    raise NotImplementedError()"
      ],
      "execution_count": 31,
      "outputs": []
    },
    {
      "cell_type": "code",
      "metadata": {
        "deletable": false,
        "editable": false,
        "nbgrader": {
          "checksum": "083e5ff6b77629d8784b8f6a30352251",
          "grade": true,
          "grade_id": "cell-d9fb4fc39a0b21c4",
          "locked": true,
          "points": 1,
          "schema_version": 1,
          "solution": false
        },
        "id": "_XmxRXdFItQQ",
        "colab": {
          "base_uri": "https://localhost:8080/"
        },
        "outputId": "d660047b-46f2-406e-c9ec-9b6206c566c4"
      },
      "source": [
        "#This is a graded cell, do not edit\n",
        "print(round(q10(df),0))\n"
      ],
      "execution_count": 32,
      "outputs": [
        {
          "output_type": "stream",
          "name": "stdout",
          "text": [
            "499.0\n"
          ]
        }
      ]
    },
    {
      "cell_type": "markdown",
      "metadata": {
        "deletable": false,
        "editable": false,
        "nbgrader": {
          "checksum": "54c8c584ece619ea786165e50a4e1002",
          "grade": false,
          "grade_id": "cell-a21a423546eb8654",
          "locked": true,
          "schema_version": 1,
          "solution": false
        },
        "id": "03gWN2PAItQS"
      },
      "source": [
        "**Q11: Find the year in which each reviewer wrote the most reviews. Once you have this for each reviewer, subtract the minimum possible year (2004) from each year so that your final feature values are 0, 1, 2, etc.**\n",
        "\n",
        "**Note: we are looking for the `answer` to be in the format of a Pandas Series with `user_id` as the index and the year (in 0, 1, 2 format as listed above) as the value.**"
      ]
    },
    {
      "cell_type": "code",
      "source": [
        "def find_most_reviews_year(df):\n",
        "    df['date'] = pd.to_datetime(df['date'], errors='coerce')\n",
        "    df['year'] = df['date'].dt.year\n",
        "\n",
        "    yearly_reviews = df.groupby(['user_id', 'year']).size().reset_index(name='count')\n",
        "    idx = yearly_reviews.groupby('user_id')['count'].idxmax()\n",
        "    most_reviews_year = yearly_reviews.loc[idx].set_index('user_id')['year']\n",
        "\n",
        "    answer = most_reviews_year - 2004\n",
        "    return answer\n",
        "\n",
        "\n",
        "answer = find_most_reviews_year(df)\n",
        "#raise NotImplementedError()"
      ],
      "metadata": {
        "id": "NEhNIzzVDU2s"
      },
      "execution_count": 40,
      "outputs": []
    },
    {
      "cell_type": "code",
      "source": [
        "#This is a graded cell, do not edit\n",
        "print(answer.sort_index().head())"
      ],
      "metadata": {
        "id": "sVSBWoYcJSLl",
        "colab": {
          "base_uri": "https://localhost:8080/"
        },
        "outputId": "35607efd-d780-4144-b674-9a457d2283b1"
      },
      "execution_count": 41,
      "outputs": [
        {
          "output_type": "stream",
          "name": "stdout",
          "text": [
            "user_id\n",
            "--1Y03CEKR3WDbBjYnsW7A     7\n",
            "--2QZsyXGz1OhiD4-0FQLQ    10\n",
            "--82_AVgRBsLw6Dhy8sEnA     4\n",
            "--8A9o_NeGyt_3kzlXtSdg    11\n",
            "--8WbseBk1NjfPiZWjQ-XQ    12\n",
            "Name: year, dtype: int64\n"
          ]
        }
      ]
    },
    {
      "cell_type": "markdown",
      "metadata": {
        "deletable": false,
        "editable": false,
        "nbgrader": {
          "checksum": "93f7e9ef2385bdac5184802eb7e1ce75",
          "grade": false,
          "grade_id": "cell-da33d981591f0ff3",
          "locked": true,
          "schema_version": 1,
          "solution": false
        },
        "id": "waqvrQeDItQV"
      },
      "source": [
        "**Q12: Come up with a new feature for each review. This may be derived from existing features.\n",
        "Give your feature the name *my_new_feature.* Display head() of this new feature.**"
      ]
    },
    {
      "cell_type": "code",
      "metadata": {
        "deletable": false,
        "nbgrader": {
          "checksum": "787d48b01fdbfeab0810cceb64c1abb3",
          "grade": true,
          "grade_id": "cell-09bbdc6a2946b441",
          "locked": false,
          "points": 1,
          "schema_version": 1,
          "solution": true
        },
        "id": "j3TZ3TD2ItQW"
      },
      "source": [
        "# YOUR CODE HERE\n",
        "my_new_feature = df['text'].str.split().apply(len)\n",
        "#raise NotImplementedError()"
      ],
      "execution_count": 43,
      "outputs": []
    },
    {
      "cell_type": "code",
      "source": [
        "#This is a graded cell, do not edit\n",
        "print(my_new_feature.head())"
      ],
      "metadata": {
        "id": "9vuRIWeEKFVb",
        "colab": {
          "base_uri": "https://localhost:8080/"
        },
        "outputId": "68c368e0-af9e-484f-eb4e-12869a64d513"
      },
      "execution_count": 44,
      "outputs": [
        {
          "output_type": "stream",
          "name": "stdout",
          "text": [
            "0    37\n",
            "1    17\n",
            "2     4\n",
            "3    60\n",
            "4    37\n",
            "Name: text, dtype: int64\n"
          ]
        }
      ]
    },
    {
      "cell_type": "markdown",
      "source": [
        "*ⓒ Prof. Zachary Pardos, 2023*"
      ],
      "metadata": {
        "id": "IQulSenZDOf9"
      }
    }
  ]
}