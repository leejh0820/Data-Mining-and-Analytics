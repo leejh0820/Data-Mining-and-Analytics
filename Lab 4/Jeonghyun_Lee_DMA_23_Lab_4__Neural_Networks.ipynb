{
  "nbformat": 4,
  "nbformat_minor": 0,
  "metadata": {
    "colab": {
      "provenance": [],
      "collapsed_sections": [
        "GTO2KMti07__",
        "YAnuY8Sv1DoO",
        "ZlDfGvy61EMS",
        "1foS74O01FfP",
        "2rFY8D4Q1GsZ"
      ]
    },
    "kernelspec": {
      "name": "python3",
      "display_name": "Python 3"
    }
  },
  "cells": [
    {
      "cell_type": "markdown",
      "metadata": {
        "id": "1xxMXNDF7ckw"
      },
      "source": [
        "## DMA 2023 ##\n",
        "Make sure you fill in any place that says `YOUR CODE HERE` or `YOUR ANSWER HERE`, as well as your name below:"
      ]
    },
    {
      "cell_type": "code",
      "source": [
        "NAME = \"Jeonghyun Lee\""
      ],
      "metadata": {
        "id": "5sdHHukr6mmS"
      },
      "execution_count": null,
      "outputs": []
    },
    {
      "cell_type": "markdown",
      "metadata": {
        "id": "Oyb_RNpFreOr"
      },
      "source": [
        "# Lab 4: Neural Networks #\n",
        "**Please read the following instructions very carefully**\n",
        "\n",
        "## Working on the assignment / FAQs\n",
        "- **Always use the seed/random_state as *42* wherever applicable** (This is to ensure repeatability in answers, across questions, students and coding environments).\n",
        "- All questions will be graded manually.\n",
        "- Most questions have two cells:\n",
        "  - A code cell for your work/code\n",
        "  - A text cell for giving your final answer\n",
        "- The points each question carries are indicated.\n",
        "- Most assignments have bonus questions for extra credit, do try them out!\n",
        "- **Submitting the assignment** : Download the '.ipynb' and '.pdf' files from Colab and upload them to Gradescope. Do not delete any outputs from cells before submitting. Make sure to assign pages to questions when uploading your PDF to Gradescope.\n",
        "- That's about it. Happy coding!\n",
        "\n",
        "\n",
        "## About the dataset\n",
        "This assignment uses a dataset obtained from the JSE Data Archive that contains biological and self-reported activity traits of a sample of college students at a single university uploaded in 2013. Background Information on the dataset: http://jse.amstat.org/v21n2/froelich/eyecolorgender.txt\n",
        "\n",
        "For this lab, the dataset has already been split into a training set `df_train` and a test set `df_test`.\n"
      ]
    },
    {
      "cell_type": "code",
      "metadata": {
        "id": "yj9Uh79ereOs"
      },
      "source": [
        "import pandas as pd\n",
        "from sklearn.neural_network import MLPClassifier\n",
        "from sklearn.svm import SVC\n",
        "\n",
        "from sklearn.preprocessing import StandardScaler, MinMaxScaler\n",
        "from sklearn.preprocessing import LabelEncoder, OneHotEncoder\n",
        "from sklearn.feature_extraction import DictVectorizer\n",
        "\n",
        "from sklearn.pipeline import Pipeline\n",
        "from sklearn.metrics import accuracy_score\n",
        "from sklearn.model_selection import train_test_split\n",
        "from sklearn.model_selection import GridSearchCV, ParameterGrid\n",
        "\n",
        "import numpy as np\n",
        "\n",
        "import warnings\n",
        "warnings.filterwarnings(\"ignore\")"
      ],
      "execution_count": null,
      "outputs": []
    },
    {
      "cell_type": "code",
      "metadata": {
        "id": "n6SRFrhfreOt",
        "outputId": "a8be6aa5-9fdd-4a6b-d7ae-8fbdd930e86e",
        "colab": {
          "base_uri": "https://localhost:8080/",
          "height": 578
        }
      },
      "source": [
        "!wget http://askoski.berkeley.edu/~zp/lab_4_training.csv\n",
        "!wget http://askoski.berkeley.edu/~zp/lab_4_test.csv\n",
        "\n",
        "df_train = pd.read_csv('./lab_4_training.csv')\n",
        "df_test = pd.read_csv('./lab_4_test.csv')\n",
        "df_train.head()"
      ],
      "execution_count": null,
      "outputs": [
        {
          "output_type": "stream",
          "name": "stdout",
          "text": [
            "--2023-09-27 11:20:14--  http://askoski.berkeley.edu/~zp/lab_4_training.csv\n",
            "Resolving askoski.berkeley.edu (askoski.berkeley.edu)... 169.229.192.179\n",
            "Connecting to askoski.berkeley.edu (askoski.berkeley.edu)|169.229.192.179|:80... connected.\n",
            "HTTP request sent, awaiting response... 200 OK\n",
            "Length: 79177 (77K) [text/csv]\n",
            "Saving to: ‘lab_4_training.csv.1’\n",
            "\n",
            "\rlab_4_training.csv.   0%[                    ]       0  --.-KB/s               \rlab_4_training.csv. 100%[===================>]  77.32K  --.-KB/s    in 0.06s   \n",
            "\n",
            "2023-09-27 11:20:15 (1.34 MB/s) - ‘lab_4_training.csv.1’ saved [79177/79177]\n",
            "\n",
            "--2023-09-27 11:20:15--  http://askoski.berkeley.edu/~zp/lab_4_test.csv\n",
            "Resolving askoski.berkeley.edu (askoski.berkeley.edu)... 169.229.192.179\n",
            "Connecting to askoski.berkeley.edu (askoski.berkeley.edu)|169.229.192.179|:80... connected.\n",
            "HTTP request sent, awaiting response... 200 OK\n",
            "Length: 26519 (26K) [text/csv]\n",
            "Saving to: ‘lab_4_test.csv.1’\n",
            "\n",
            "lab_4_test.csv.1    100%[===================>]  25.90K  --.-KB/s    in 0.02s   \n",
            "\n",
            "2023-09-27 11:20:15 (1.45 MB/s) - ‘lab_4_test.csv.1’ saved [26519/26519]\n",
            "\n"
          ]
        },
        {
          "output_type": "execute_result",
          "data": {
            "text/plain": [
              "   Unnamed: 0  gender  age    year eyecolor  height  miles  brothers  sisters  \\\n",
              "0         577    male   20   third    hazel    72.0  180.0         0        0   \n",
              "1         677    male   19  second    hazel    72.0  120.0         1        1   \n",
              "2        1738    male   20  second    brown    63.0   55.0         1        2   \n",
              "3        1355    male   20   third    green    78.0  200.0         0        0   \n",
              "4         891  female   19  second    green    67.0  280.0         2        0   \n",
              "\n",
              "   computertime exercise  exercisehours  musiccds  playgames  watchtv  \n",
              "0           5.0       No            0.0     100.0       10.0     10.0  \n",
              "1          16.0      Yes            9.0      70.0        3.0      5.0  \n",
              "2          15.0      Yes            4.5      15.0        4.0     13.0  \n",
              "3          10.0      Yes            9.0      20.0       10.0     10.0  \n",
              "4           4.0      Yes            2.0     164.0        0.0      2.0  "
            ],
            "text/html": [
              "\n",
              "  <div id=\"df-cd058a38-07cf-4153-978b-7ce2275edba5\" class=\"colab-df-container\">\n",
              "    <div>\n",
              "<style scoped>\n",
              "    .dataframe tbody tr th:only-of-type {\n",
              "        vertical-align: middle;\n",
              "    }\n",
              "\n",
              "    .dataframe tbody tr th {\n",
              "        vertical-align: top;\n",
              "    }\n",
              "\n",
              "    .dataframe thead th {\n",
              "        text-align: right;\n",
              "    }\n",
              "</style>\n",
              "<table border=\"1\" class=\"dataframe\">\n",
              "  <thead>\n",
              "    <tr style=\"text-align: right;\">\n",
              "      <th></th>\n",
              "      <th>Unnamed: 0</th>\n",
              "      <th>gender</th>\n",
              "      <th>age</th>\n",
              "      <th>year</th>\n",
              "      <th>eyecolor</th>\n",
              "      <th>height</th>\n",
              "      <th>miles</th>\n",
              "      <th>brothers</th>\n",
              "      <th>sisters</th>\n",
              "      <th>computertime</th>\n",
              "      <th>exercise</th>\n",
              "      <th>exercisehours</th>\n",
              "      <th>musiccds</th>\n",
              "      <th>playgames</th>\n",
              "      <th>watchtv</th>\n",
              "    </tr>\n",
              "  </thead>\n",
              "  <tbody>\n",
              "    <tr>\n",
              "      <th>0</th>\n",
              "      <td>577</td>\n",
              "      <td>male</td>\n",
              "      <td>20</td>\n",
              "      <td>third</td>\n",
              "      <td>hazel</td>\n",
              "      <td>72.0</td>\n",
              "      <td>180.0</td>\n",
              "      <td>0</td>\n",
              "      <td>0</td>\n",
              "      <td>5.0</td>\n",
              "      <td>No</td>\n",
              "      <td>0.0</td>\n",
              "      <td>100.0</td>\n",
              "      <td>10.0</td>\n",
              "      <td>10.0</td>\n",
              "    </tr>\n",
              "    <tr>\n",
              "      <th>1</th>\n",
              "      <td>677</td>\n",
              "      <td>male</td>\n",
              "      <td>19</td>\n",
              "      <td>second</td>\n",
              "      <td>hazel</td>\n",
              "      <td>72.0</td>\n",
              "      <td>120.0</td>\n",
              "      <td>1</td>\n",
              "      <td>1</td>\n",
              "      <td>16.0</td>\n",
              "      <td>Yes</td>\n",
              "      <td>9.0</td>\n",
              "      <td>70.0</td>\n",
              "      <td>3.0</td>\n",
              "      <td>5.0</td>\n",
              "    </tr>\n",
              "    <tr>\n",
              "      <th>2</th>\n",
              "      <td>1738</td>\n",
              "      <td>male</td>\n",
              "      <td>20</td>\n",
              "      <td>second</td>\n",
              "      <td>brown</td>\n",
              "      <td>63.0</td>\n",
              "      <td>55.0</td>\n",
              "      <td>1</td>\n",
              "      <td>2</td>\n",
              "      <td>15.0</td>\n",
              "      <td>Yes</td>\n",
              "      <td>4.5</td>\n",
              "      <td>15.0</td>\n",
              "      <td>4.0</td>\n",
              "      <td>13.0</td>\n",
              "    </tr>\n",
              "    <tr>\n",
              "      <th>3</th>\n",
              "      <td>1355</td>\n",
              "      <td>male</td>\n",
              "      <td>20</td>\n",
              "      <td>third</td>\n",
              "      <td>green</td>\n",
              "      <td>78.0</td>\n",
              "      <td>200.0</td>\n",
              "      <td>0</td>\n",
              "      <td>0</td>\n",
              "      <td>10.0</td>\n",
              "      <td>Yes</td>\n",
              "      <td>9.0</td>\n",
              "      <td>20.0</td>\n",
              "      <td>10.0</td>\n",
              "      <td>10.0</td>\n",
              "    </tr>\n",
              "    <tr>\n",
              "      <th>4</th>\n",
              "      <td>891</td>\n",
              "      <td>female</td>\n",
              "      <td>19</td>\n",
              "      <td>second</td>\n",
              "      <td>green</td>\n",
              "      <td>67.0</td>\n",
              "      <td>280.0</td>\n",
              "      <td>2</td>\n",
              "      <td>0</td>\n",
              "      <td>4.0</td>\n",
              "      <td>Yes</td>\n",
              "      <td>2.0</td>\n",
              "      <td>164.0</td>\n",
              "      <td>0.0</td>\n",
              "      <td>2.0</td>\n",
              "    </tr>\n",
              "  </tbody>\n",
              "</table>\n",
              "</div>\n",
              "    <div class=\"colab-df-buttons\">\n",
              "\n",
              "  <div class=\"colab-df-container\">\n",
              "    <button class=\"colab-df-convert\" onclick=\"convertToInteractive('df-cd058a38-07cf-4153-978b-7ce2275edba5')\"\n",
              "            title=\"Convert this dataframe to an interactive table.\"\n",
              "            style=\"display:none;\">\n",
              "\n",
              "  <svg xmlns=\"http://www.w3.org/2000/svg\" height=\"24px\" viewBox=\"0 -960 960 960\">\n",
              "    <path d=\"M120-120v-720h720v720H120Zm60-500h600v-160H180v160Zm220 220h160v-160H400v160Zm0 220h160v-160H400v160ZM180-400h160v-160H180v160Zm440 0h160v-160H620v160ZM180-180h160v-160H180v160Zm440 0h160v-160H620v160Z\"/>\n",
              "  </svg>\n",
              "    </button>\n",
              "\n",
              "  <style>\n",
              "    .colab-df-container {\n",
              "      display:flex;\n",
              "      gap: 12px;\n",
              "    }\n",
              "\n",
              "    .colab-df-convert {\n",
              "      background-color: #E8F0FE;\n",
              "      border: none;\n",
              "      border-radius: 50%;\n",
              "      cursor: pointer;\n",
              "      display: none;\n",
              "      fill: #1967D2;\n",
              "      height: 32px;\n",
              "      padding: 0 0 0 0;\n",
              "      width: 32px;\n",
              "    }\n",
              "\n",
              "    .colab-df-convert:hover {\n",
              "      background-color: #E2EBFA;\n",
              "      box-shadow: 0px 1px 2px rgba(60, 64, 67, 0.3), 0px 1px 3px 1px rgba(60, 64, 67, 0.15);\n",
              "      fill: #174EA6;\n",
              "    }\n",
              "\n",
              "    .colab-df-buttons div {\n",
              "      margin-bottom: 4px;\n",
              "    }\n",
              "\n",
              "    [theme=dark] .colab-df-convert {\n",
              "      background-color: #3B4455;\n",
              "      fill: #D2E3FC;\n",
              "    }\n",
              "\n",
              "    [theme=dark] .colab-df-convert:hover {\n",
              "      background-color: #434B5C;\n",
              "      box-shadow: 0px 1px 3px 1px rgba(0, 0, 0, 0.15);\n",
              "      filter: drop-shadow(0px 1px 2px rgba(0, 0, 0, 0.3));\n",
              "      fill: #FFFFFF;\n",
              "    }\n",
              "  </style>\n",
              "\n",
              "    <script>\n",
              "      const buttonEl =\n",
              "        document.querySelector('#df-cd058a38-07cf-4153-978b-7ce2275edba5 button.colab-df-convert');\n",
              "      buttonEl.style.display =\n",
              "        google.colab.kernel.accessAllowed ? 'block' : 'none';\n",
              "\n",
              "      async function convertToInteractive(key) {\n",
              "        const element = document.querySelector('#df-cd058a38-07cf-4153-978b-7ce2275edba5');\n",
              "        const dataTable =\n",
              "          await google.colab.kernel.invokeFunction('convertToInteractive',\n",
              "                                                    [key], {});\n",
              "        if (!dataTable) return;\n",
              "\n",
              "        const docLinkHtml = 'Like what you see? Visit the ' +\n",
              "          '<a target=\"_blank\" href=https://colab.research.google.com/notebooks/data_table.ipynb>data table notebook</a>'\n",
              "          + ' to learn more about interactive tables.';\n",
              "        element.innerHTML = '';\n",
              "        dataTable['output_type'] = 'display_data';\n",
              "        await google.colab.output.renderOutput(dataTable, element);\n",
              "        const docLink = document.createElement('div');\n",
              "        docLink.innerHTML = docLinkHtml;\n",
              "        element.appendChild(docLink);\n",
              "      }\n",
              "    </script>\n",
              "  </div>\n",
              "\n",
              "\n",
              "<div id=\"df-c0779561-1ae2-43a7-8368-0631543c343f\">\n",
              "  <button class=\"colab-df-quickchart\" onclick=\"quickchart('df-c0779561-1ae2-43a7-8368-0631543c343f')\"\n",
              "            title=\"Suggest charts.\"\n",
              "            style=\"display:none;\">\n",
              "\n",
              "<svg xmlns=\"http://www.w3.org/2000/svg\" height=\"24px\"viewBox=\"0 0 24 24\"\n",
              "     width=\"24px\">\n",
              "    <g>\n",
              "        <path d=\"M19 3H5c-1.1 0-2 .9-2 2v14c0 1.1.9 2 2 2h14c1.1 0 2-.9 2-2V5c0-1.1-.9-2-2-2zM9 17H7v-7h2v7zm4 0h-2V7h2v10zm4 0h-2v-4h2v4z\"/>\n",
              "    </g>\n",
              "</svg>\n",
              "  </button>\n",
              "\n",
              "<style>\n",
              "  .colab-df-quickchart {\n",
              "      --bg-color: #E8F0FE;\n",
              "      --fill-color: #1967D2;\n",
              "      --hover-bg-color: #E2EBFA;\n",
              "      --hover-fill-color: #174EA6;\n",
              "      --disabled-fill-color: #AAA;\n",
              "      --disabled-bg-color: #DDD;\n",
              "  }\n",
              "\n",
              "  [theme=dark] .colab-df-quickchart {\n",
              "      --bg-color: #3B4455;\n",
              "      --fill-color: #D2E3FC;\n",
              "      --hover-bg-color: #434B5C;\n",
              "      --hover-fill-color: #FFFFFF;\n",
              "      --disabled-bg-color: #3B4455;\n",
              "      --disabled-fill-color: #666;\n",
              "  }\n",
              "\n",
              "  .colab-df-quickchart {\n",
              "    background-color: var(--bg-color);\n",
              "    border: none;\n",
              "    border-radius: 50%;\n",
              "    cursor: pointer;\n",
              "    display: none;\n",
              "    fill: var(--fill-color);\n",
              "    height: 32px;\n",
              "    padding: 0;\n",
              "    width: 32px;\n",
              "  }\n",
              "\n",
              "  .colab-df-quickchart:hover {\n",
              "    background-color: var(--hover-bg-color);\n",
              "    box-shadow: 0 1px 2px rgba(60, 64, 67, 0.3), 0 1px 3px 1px rgba(60, 64, 67, 0.15);\n",
              "    fill: var(--button-hover-fill-color);\n",
              "  }\n",
              "\n",
              "  .colab-df-quickchart-complete:disabled,\n",
              "  .colab-df-quickchart-complete:disabled:hover {\n",
              "    background-color: var(--disabled-bg-color);\n",
              "    fill: var(--disabled-fill-color);\n",
              "    box-shadow: none;\n",
              "  }\n",
              "\n",
              "  .colab-df-spinner {\n",
              "    border: 2px solid var(--fill-color);\n",
              "    border-color: transparent;\n",
              "    border-bottom-color: var(--fill-color);\n",
              "    animation:\n",
              "      spin 1s steps(1) infinite;\n",
              "  }\n",
              "\n",
              "  @keyframes spin {\n",
              "    0% {\n",
              "      border-color: transparent;\n",
              "      border-bottom-color: var(--fill-color);\n",
              "      border-left-color: var(--fill-color);\n",
              "    }\n",
              "    20% {\n",
              "      border-color: transparent;\n",
              "      border-left-color: var(--fill-color);\n",
              "      border-top-color: var(--fill-color);\n",
              "    }\n",
              "    30% {\n",
              "      border-color: transparent;\n",
              "      border-left-color: var(--fill-color);\n",
              "      border-top-color: var(--fill-color);\n",
              "      border-right-color: var(--fill-color);\n",
              "    }\n",
              "    40% {\n",
              "      border-color: transparent;\n",
              "      border-right-color: var(--fill-color);\n",
              "      border-top-color: var(--fill-color);\n",
              "    }\n",
              "    60% {\n",
              "      border-color: transparent;\n",
              "      border-right-color: var(--fill-color);\n",
              "    }\n",
              "    80% {\n",
              "      border-color: transparent;\n",
              "      border-right-color: var(--fill-color);\n",
              "      border-bottom-color: var(--fill-color);\n",
              "    }\n",
              "    90% {\n",
              "      border-color: transparent;\n",
              "      border-bottom-color: var(--fill-color);\n",
              "    }\n",
              "  }\n",
              "</style>\n",
              "\n",
              "  <script>\n",
              "    async function quickchart(key) {\n",
              "      const quickchartButtonEl =\n",
              "        document.querySelector('#' + key + ' button');\n",
              "      quickchartButtonEl.disabled = true;  // To prevent multiple clicks.\n",
              "      quickchartButtonEl.classList.add('colab-df-spinner');\n",
              "      try {\n",
              "        const charts = await google.colab.kernel.invokeFunction(\n",
              "            'suggestCharts', [key], {});\n",
              "      } catch (error) {\n",
              "        console.error('Error during call to suggestCharts:', error);\n",
              "      }\n",
              "      quickchartButtonEl.classList.remove('colab-df-spinner');\n",
              "      quickchartButtonEl.classList.add('colab-df-quickchart-complete');\n",
              "    }\n",
              "    (() => {\n",
              "      let quickchartButtonEl =\n",
              "        document.querySelector('#df-c0779561-1ae2-43a7-8368-0631543c343f button');\n",
              "      quickchartButtonEl.style.display =\n",
              "        google.colab.kernel.accessAllowed ? 'block' : 'none';\n",
              "    })();\n",
              "  </script>\n",
              "</div>\n",
              "    </div>\n",
              "  </div>\n"
            ]
          },
          "metadata": {},
          "execution_count": 25
        }
      ]
    },
    {
      "cell_type": "code",
      "metadata": {
        "id": "GowXG5FncrPD",
        "outputId": "f9c437e0-1409-4a75-d257-2b061cc95928",
        "colab": {
          "base_uri": "https://localhost:8080/",
          "height": 204
        }
      },
      "source": [
        "df_test.head()"
      ],
      "execution_count": null,
      "outputs": [
        {
          "output_type": "execute_result",
          "data": {
            "text/plain": [
              "   Unnamed: 0 gender  age    year eyecolor  height  miles  brothers  sisters  \\\n",
              "0        1303   male   20  second    green    73.0  210.0         0        1   \n",
              "1          36   male   20   third    other    71.0   90.0         1        0   \n",
              "2         489   male   22  fourth    hazel    75.0  200.0         0        1   \n",
              "3        1415   male   19  second    brown    72.0   35.0         2        2   \n",
              "4         616   male   22  fourth    hazel    71.0   15.0         2        1   \n",
              "\n",
              "   computertime exercise  exercisehours  musiccds  playgames  watchtv  \n",
              "0          10.0      Yes            5.0      50.0        1.0     15.0  \n",
              "1          15.0      Yes            4.0      10.0        0.0      1.0  \n",
              "2           1.0      Yes            2.0     150.0        1.0     10.0  \n",
              "3          20.0      Yes            5.0     100.0        0.0      7.0  \n",
              "4          10.0      Yes            7.0      10.0        0.0      5.0  "
            ],
            "text/html": [
              "\n",
              "  <div id=\"df-b1d00251-c932-4b1d-9111-d892f520e24a\" class=\"colab-df-container\">\n",
              "    <div>\n",
              "<style scoped>\n",
              "    .dataframe tbody tr th:only-of-type {\n",
              "        vertical-align: middle;\n",
              "    }\n",
              "\n",
              "    .dataframe tbody tr th {\n",
              "        vertical-align: top;\n",
              "    }\n",
              "\n",
              "    .dataframe thead th {\n",
              "        text-align: right;\n",
              "    }\n",
              "</style>\n",
              "<table border=\"1\" class=\"dataframe\">\n",
              "  <thead>\n",
              "    <tr style=\"text-align: right;\">\n",
              "      <th></th>\n",
              "      <th>Unnamed: 0</th>\n",
              "      <th>gender</th>\n",
              "      <th>age</th>\n",
              "      <th>year</th>\n",
              "      <th>eyecolor</th>\n",
              "      <th>height</th>\n",
              "      <th>miles</th>\n",
              "      <th>brothers</th>\n",
              "      <th>sisters</th>\n",
              "      <th>computertime</th>\n",
              "      <th>exercise</th>\n",
              "      <th>exercisehours</th>\n",
              "      <th>musiccds</th>\n",
              "      <th>playgames</th>\n",
              "      <th>watchtv</th>\n",
              "    </tr>\n",
              "  </thead>\n",
              "  <tbody>\n",
              "    <tr>\n",
              "      <th>0</th>\n",
              "      <td>1303</td>\n",
              "      <td>male</td>\n",
              "      <td>20</td>\n",
              "      <td>second</td>\n",
              "      <td>green</td>\n",
              "      <td>73.0</td>\n",
              "      <td>210.0</td>\n",
              "      <td>0</td>\n",
              "      <td>1</td>\n",
              "      <td>10.0</td>\n",
              "      <td>Yes</td>\n",
              "      <td>5.0</td>\n",
              "      <td>50.0</td>\n",
              "      <td>1.0</td>\n",
              "      <td>15.0</td>\n",
              "    </tr>\n",
              "    <tr>\n",
              "      <th>1</th>\n",
              "      <td>36</td>\n",
              "      <td>male</td>\n",
              "      <td>20</td>\n",
              "      <td>third</td>\n",
              "      <td>other</td>\n",
              "      <td>71.0</td>\n",
              "      <td>90.0</td>\n",
              "      <td>1</td>\n",
              "      <td>0</td>\n",
              "      <td>15.0</td>\n",
              "      <td>Yes</td>\n",
              "      <td>4.0</td>\n",
              "      <td>10.0</td>\n",
              "      <td>0.0</td>\n",
              "      <td>1.0</td>\n",
              "    </tr>\n",
              "    <tr>\n",
              "      <th>2</th>\n",
              "      <td>489</td>\n",
              "      <td>male</td>\n",
              "      <td>22</td>\n",
              "      <td>fourth</td>\n",
              "      <td>hazel</td>\n",
              "      <td>75.0</td>\n",
              "      <td>200.0</td>\n",
              "      <td>0</td>\n",
              "      <td>1</td>\n",
              "      <td>1.0</td>\n",
              "      <td>Yes</td>\n",
              "      <td>2.0</td>\n",
              "      <td>150.0</td>\n",
              "      <td>1.0</td>\n",
              "      <td>10.0</td>\n",
              "    </tr>\n",
              "    <tr>\n",
              "      <th>3</th>\n",
              "      <td>1415</td>\n",
              "      <td>male</td>\n",
              "      <td>19</td>\n",
              "      <td>second</td>\n",
              "      <td>brown</td>\n",
              "      <td>72.0</td>\n",
              "      <td>35.0</td>\n",
              "      <td>2</td>\n",
              "      <td>2</td>\n",
              "      <td>20.0</td>\n",
              "      <td>Yes</td>\n",
              "      <td>5.0</td>\n",
              "      <td>100.0</td>\n",
              "      <td>0.0</td>\n",
              "      <td>7.0</td>\n",
              "    </tr>\n",
              "    <tr>\n",
              "      <th>4</th>\n",
              "      <td>616</td>\n",
              "      <td>male</td>\n",
              "      <td>22</td>\n",
              "      <td>fourth</td>\n",
              "      <td>hazel</td>\n",
              "      <td>71.0</td>\n",
              "      <td>15.0</td>\n",
              "      <td>2</td>\n",
              "      <td>1</td>\n",
              "      <td>10.0</td>\n",
              "      <td>Yes</td>\n",
              "      <td>7.0</td>\n",
              "      <td>10.0</td>\n",
              "      <td>0.0</td>\n",
              "      <td>5.0</td>\n",
              "    </tr>\n",
              "  </tbody>\n",
              "</table>\n",
              "</div>\n",
              "    <div class=\"colab-df-buttons\">\n",
              "\n",
              "  <div class=\"colab-df-container\">\n",
              "    <button class=\"colab-df-convert\" onclick=\"convertToInteractive('df-b1d00251-c932-4b1d-9111-d892f520e24a')\"\n",
              "            title=\"Convert this dataframe to an interactive table.\"\n",
              "            style=\"display:none;\">\n",
              "\n",
              "  <svg xmlns=\"http://www.w3.org/2000/svg\" height=\"24px\" viewBox=\"0 -960 960 960\">\n",
              "    <path d=\"M120-120v-720h720v720H120Zm60-500h600v-160H180v160Zm220 220h160v-160H400v160Zm0 220h160v-160H400v160ZM180-400h160v-160H180v160Zm440 0h160v-160H620v160ZM180-180h160v-160H180v160Zm440 0h160v-160H620v160Z\"/>\n",
              "  </svg>\n",
              "    </button>\n",
              "\n",
              "  <style>\n",
              "    .colab-df-container {\n",
              "      display:flex;\n",
              "      gap: 12px;\n",
              "    }\n",
              "\n",
              "    .colab-df-convert {\n",
              "      background-color: #E8F0FE;\n",
              "      border: none;\n",
              "      border-radius: 50%;\n",
              "      cursor: pointer;\n",
              "      display: none;\n",
              "      fill: #1967D2;\n",
              "      height: 32px;\n",
              "      padding: 0 0 0 0;\n",
              "      width: 32px;\n",
              "    }\n",
              "\n",
              "    .colab-df-convert:hover {\n",
              "      background-color: #E2EBFA;\n",
              "      box-shadow: 0px 1px 2px rgba(60, 64, 67, 0.3), 0px 1px 3px 1px rgba(60, 64, 67, 0.15);\n",
              "      fill: #174EA6;\n",
              "    }\n",
              "\n",
              "    .colab-df-buttons div {\n",
              "      margin-bottom: 4px;\n",
              "    }\n",
              "\n",
              "    [theme=dark] .colab-df-convert {\n",
              "      background-color: #3B4455;\n",
              "      fill: #D2E3FC;\n",
              "    }\n",
              "\n",
              "    [theme=dark] .colab-df-convert:hover {\n",
              "      background-color: #434B5C;\n",
              "      box-shadow: 0px 1px 3px 1px rgba(0, 0, 0, 0.15);\n",
              "      filter: drop-shadow(0px 1px 2px rgba(0, 0, 0, 0.3));\n",
              "      fill: #FFFFFF;\n",
              "    }\n",
              "  </style>\n",
              "\n",
              "    <script>\n",
              "      const buttonEl =\n",
              "        document.querySelector('#df-b1d00251-c932-4b1d-9111-d892f520e24a button.colab-df-convert');\n",
              "      buttonEl.style.display =\n",
              "        google.colab.kernel.accessAllowed ? 'block' : 'none';\n",
              "\n",
              "      async function convertToInteractive(key) {\n",
              "        const element = document.querySelector('#df-b1d00251-c932-4b1d-9111-d892f520e24a');\n",
              "        const dataTable =\n",
              "          await google.colab.kernel.invokeFunction('convertToInteractive',\n",
              "                                                    [key], {});\n",
              "        if (!dataTable) return;\n",
              "\n",
              "        const docLinkHtml = 'Like what you see? Visit the ' +\n",
              "          '<a target=\"_blank\" href=https://colab.research.google.com/notebooks/data_table.ipynb>data table notebook</a>'\n",
              "          + ' to learn more about interactive tables.';\n",
              "        element.innerHTML = '';\n",
              "        dataTable['output_type'] = 'display_data';\n",
              "        await google.colab.output.renderOutput(dataTable, element);\n",
              "        const docLink = document.createElement('div');\n",
              "        docLink.innerHTML = docLinkHtml;\n",
              "        element.appendChild(docLink);\n",
              "      }\n",
              "    </script>\n",
              "  </div>\n",
              "\n",
              "\n",
              "<div id=\"df-26f66642-0650-4d9c-882a-ff69a0ca1c4a\">\n",
              "  <button class=\"colab-df-quickchart\" onclick=\"quickchart('df-26f66642-0650-4d9c-882a-ff69a0ca1c4a')\"\n",
              "            title=\"Suggest charts.\"\n",
              "            style=\"display:none;\">\n",
              "\n",
              "<svg xmlns=\"http://www.w3.org/2000/svg\" height=\"24px\"viewBox=\"0 0 24 24\"\n",
              "     width=\"24px\">\n",
              "    <g>\n",
              "        <path d=\"M19 3H5c-1.1 0-2 .9-2 2v14c0 1.1.9 2 2 2h14c1.1 0 2-.9 2-2V5c0-1.1-.9-2-2-2zM9 17H7v-7h2v7zm4 0h-2V7h2v10zm4 0h-2v-4h2v4z\"/>\n",
              "    </g>\n",
              "</svg>\n",
              "  </button>\n",
              "\n",
              "<style>\n",
              "  .colab-df-quickchart {\n",
              "      --bg-color: #E8F0FE;\n",
              "      --fill-color: #1967D2;\n",
              "      --hover-bg-color: #E2EBFA;\n",
              "      --hover-fill-color: #174EA6;\n",
              "      --disabled-fill-color: #AAA;\n",
              "      --disabled-bg-color: #DDD;\n",
              "  }\n",
              "\n",
              "  [theme=dark] .colab-df-quickchart {\n",
              "      --bg-color: #3B4455;\n",
              "      --fill-color: #D2E3FC;\n",
              "      --hover-bg-color: #434B5C;\n",
              "      --hover-fill-color: #FFFFFF;\n",
              "      --disabled-bg-color: #3B4455;\n",
              "      --disabled-fill-color: #666;\n",
              "  }\n",
              "\n",
              "  .colab-df-quickchart {\n",
              "    background-color: var(--bg-color);\n",
              "    border: none;\n",
              "    border-radius: 50%;\n",
              "    cursor: pointer;\n",
              "    display: none;\n",
              "    fill: var(--fill-color);\n",
              "    height: 32px;\n",
              "    padding: 0;\n",
              "    width: 32px;\n",
              "  }\n",
              "\n",
              "  .colab-df-quickchart:hover {\n",
              "    background-color: var(--hover-bg-color);\n",
              "    box-shadow: 0 1px 2px rgba(60, 64, 67, 0.3), 0 1px 3px 1px rgba(60, 64, 67, 0.15);\n",
              "    fill: var(--button-hover-fill-color);\n",
              "  }\n",
              "\n",
              "  .colab-df-quickchart-complete:disabled,\n",
              "  .colab-df-quickchart-complete:disabled:hover {\n",
              "    background-color: var(--disabled-bg-color);\n",
              "    fill: var(--disabled-fill-color);\n",
              "    box-shadow: none;\n",
              "  }\n",
              "\n",
              "  .colab-df-spinner {\n",
              "    border: 2px solid var(--fill-color);\n",
              "    border-color: transparent;\n",
              "    border-bottom-color: var(--fill-color);\n",
              "    animation:\n",
              "      spin 1s steps(1) infinite;\n",
              "  }\n",
              "\n",
              "  @keyframes spin {\n",
              "    0% {\n",
              "      border-color: transparent;\n",
              "      border-bottom-color: var(--fill-color);\n",
              "      border-left-color: var(--fill-color);\n",
              "    }\n",
              "    20% {\n",
              "      border-color: transparent;\n",
              "      border-left-color: var(--fill-color);\n",
              "      border-top-color: var(--fill-color);\n",
              "    }\n",
              "    30% {\n",
              "      border-color: transparent;\n",
              "      border-left-color: var(--fill-color);\n",
              "      border-top-color: var(--fill-color);\n",
              "      border-right-color: var(--fill-color);\n",
              "    }\n",
              "    40% {\n",
              "      border-color: transparent;\n",
              "      border-right-color: var(--fill-color);\n",
              "      border-top-color: var(--fill-color);\n",
              "    }\n",
              "    60% {\n",
              "      border-color: transparent;\n",
              "      border-right-color: var(--fill-color);\n",
              "    }\n",
              "    80% {\n",
              "      border-color: transparent;\n",
              "      border-right-color: var(--fill-color);\n",
              "      border-bottom-color: var(--fill-color);\n",
              "    }\n",
              "    90% {\n",
              "      border-color: transparent;\n",
              "      border-bottom-color: var(--fill-color);\n",
              "    }\n",
              "  }\n",
              "</style>\n",
              "\n",
              "  <script>\n",
              "    async function quickchart(key) {\n",
              "      const quickchartButtonEl =\n",
              "        document.querySelector('#' + key + ' button');\n",
              "      quickchartButtonEl.disabled = true;  // To prevent multiple clicks.\n",
              "      quickchartButtonEl.classList.add('colab-df-spinner');\n",
              "      try {\n",
              "        const charts = await google.colab.kernel.invokeFunction(\n",
              "            'suggestCharts', [key], {});\n",
              "      } catch (error) {\n",
              "        console.error('Error during call to suggestCharts:', error);\n",
              "      }\n",
              "      quickchartButtonEl.classList.remove('colab-df-spinner');\n",
              "      quickchartButtonEl.classList.add('colab-df-quickchart-complete');\n",
              "    }\n",
              "    (() => {\n",
              "      let quickchartButtonEl =\n",
              "        document.querySelector('#df-26f66642-0650-4d9c-882a-ff69a0ca1c4a button');\n",
              "      quickchartButtonEl.style.display =\n",
              "        google.colab.kernel.accessAllowed ? 'block' : 'none';\n",
              "    })();\n",
              "  </script>\n",
              "</div>\n",
              "    </div>\n",
              "  </div>\n"
            ]
          },
          "metadata": {},
          "execution_count": 26
        }
      ]
    },
    {
      "cell_type": "markdown",
      "metadata": {
        "id": "RGt_10ZAreOv"
      },
      "source": [
        "***\n",
        "### Question 1 (1 point)###\n",
        "Calculate a baseline accuracy measure using the majority class, assuming a target variable of `gender`. The majority class is the most common value of the target variable in a particular dataset. Accuracy is calculated as (true positives + true negatives) / (all negatives and positives)."
      ]
    },
    {
      "cell_type": "markdown",
      "metadata": {
        "id": "UZPiLgekreOw"
      },
      "source": [
        "**Question 1.a**  \n",
        "Find the majority class in the training set. If you always predicted this class in the training set, what would your accuracy be?"
      ]
    },
    {
      "cell_type": "code",
      "metadata": {
        "id": "iYjEFc1greOx",
        "outputId": "f745d63d-67f7-4700-d75a-76f7c92daf6d",
        "colab": {
          "base_uri": "https://localhost:8080/"
        }
      },
      "source": [
        "# YOUR CODE HERE\n",
        "majority_class = df_train['gender'].value_counts().idxmax()\n",
        "\n",
        "\n",
        "true_positives = (df_train['gender'] == majority_class).sum()\n",
        "total_samples = df_train.shape[0]\n",
        "accuracy = true_positives / total_samples\n",
        "\n",
        "print(accuracy)\n",
        "\n"
      ],
      "execution_count": null,
      "outputs": [
        {
          "output_type": "stream",
          "name": "stdout",
          "text": [
            "0.5427852348993288\n"
          ]
        }
      ]
    },
    {
      "cell_type": "markdown",
      "metadata": {
        "id": "5w2LK2QxUFKv"
      },
      "source": [
        "**Answer: 0.5427852348993288**"
      ]
    },
    {
      "cell_type": "markdown",
      "metadata": {
        "id": "ULPKW0IvreOy"
      },
      "source": [
        "**Question 1.b**   \n",
        "If you always predicted this same class (majority from the training set) in the test set, what would your accuracy be?"
      ]
    },
    {
      "cell_type": "code",
      "metadata": {
        "id": "dfU5mwh405vq",
        "outputId": "5e70d979-1159-4def-af9c-a7d1e59866b6",
        "colab": {
          "base_uri": "https://localhost:8080/"
        }
      },
      "source": [
        "# YOUR CODE HERE\n",
        "true_positives_test = (df_test['gender'] == majority_class).sum()\n",
        "total_samples_test = df_test.shape[0]\n",
        "accuracy_test = true_positives_test / total_samples_test\n",
        "\n",
        "print(accuracy_test)"
      ],
      "execution_count": null,
      "outputs": [
        {
          "output_type": "stream",
          "name": "stdout",
          "text": [
            "0.5226130653266332\n"
          ]
        }
      ]
    },
    {
      "cell_type": "markdown",
      "metadata": {
        "id": "pINRUJxG05v4"
      },
      "source": [
        "\n",
        "\n",
        "\n",
        "\n",
        "**Answer: 0.5226130653266332**"
      ]
    },
    {
      "cell_type": "markdown",
      "metadata": {
        "id": "GKb2Ju-GreO0"
      },
      "source": [
        "***\n",
        "### Question 2 (1.5 points)###\n",
        "Get started with Neural Networks."
      ]
    },
    {
      "cell_type": "markdown",
      "metadata": {
        "id": "UYI6e3F3reO0"
      },
      "source": [
        "   \n",
        "Choose a NN implementation (we recommend Sklearn MLPclassifier) and specify which you choose. Be sure the implementation allows you to modify the number of hidden layers and hidden nodes per layer.  \n",
        "\n",
        "NOTE: When possible, specify the logsig (`sigmoid`/`logistic`) function as the transfer function (another word for activation function) and use Levenberg-Marquardt backpropagation (`lbfgs`). It is possible to specify logistic in Sklearn MLPclassifier.  "
      ]
    },
    {
      "cell_type": "markdown",
      "source": [
        "**My NN implementation of choice: My NN implementation of choice: I choose the MLPClassifier from Scikit-learn (Sklearn). This implementation allows for the modification of the number of hidden layers and hidden nodes per layer. In MLPClassifier, the logistic sigmoid function can be specified using the activation parameter set to 'logistic'. Additionally, the Levenberg-Marquardt backpropagation (lbfgs) can be used by setting the solver parameter to 'lbfgs'.**"
      ],
      "metadata": {
        "id": "2WHCSftWa2bF"
      }
    },
    {
      "cell_type": "markdown",
      "metadata": {
        "id": "4am3sGc4reO1"
      },
      "source": [
        "**Question 2.a**   \n",
        "Train a neural network with a single 10 node hidden layer. Only use the `height` feature of the dataset to predict the `gender`. You will have to change `gender` to a 0 and 1 class. After training, use your trained model to predict the class (`gender`) using the `height` feature from the training set. What is the accuracy of this prediction?"
      ]
    },
    {
      "cell_type": "code",
      "metadata": {
        "id": "jbAzltaw067l",
        "outputId": "f17ffb73-fc1a-4424-cfc8-a648a5cdc4cd",
        "colab": {
          "base_uri": "https://localhost:8080/"
        }
      },
      "source": [
        "# YOUR CODE HERE\n",
        "\n",
        "X_train = df_train[['height']]\n",
        "y_train = df_train['gender'] == 'female'\n",
        "\n",
        "clf = MLPClassifier(hidden_layer_sizes=(10,), activation='logistic', solver='lbfgs', random_state=42)\n",
        "clf.fit(X_train, y_train)\n",
        "\n",
        "y_pred = clf.predict(X_train)\n",
        "accuracy_nn = accuracy_score(y_train, y_pred)\n",
        "\n",
        "print(accuracy_nn)"
      ],
      "execution_count": null,
      "outputs": [
        {
          "output_type": "stream",
          "name": "stdout",
          "text": [
            "0.8439597315436241\n"
          ]
        }
      ]
    },
    {
      "cell_type": "markdown",
      "metadata": {
        "id": "EuaCk0l0067q"
      },
      "source": [
        "**Answer: 0.8439597315436241**"
      ]
    },
    {
      "cell_type": "markdown",
      "metadata": {
        "id": "AkqzIeshreO2"
      },
      "source": [
        "**Question 2.b (0.5 points)**  \n",
        "Take the trained model from question 2.a and use it to predict the test set. This can be accomplished by taking the trained model and giving it the `height` feature values from the test set. What is the accuracy of this model on the test set?"
      ]
    },
    {
      "cell_type": "code",
      "metadata": {
        "id": "Tw25ezWp07hj",
        "outputId": "4e0af7d5-3b93-480b-f8b9-e76809764134",
        "colab": {
          "base_uri": "https://localhost:8080/"
        }
      },
      "source": [
        "# YOUR CODE HERE\n",
        "X_test = df_test[['height']]\n",
        "y_test = df_test['gender'] == 'female'\n",
        "\n",
        "y_pred_test = clf.predict(X_test)\n",
        "\n",
        "accuracy_test_nn = accuracy_score(y_test, y_pred_test)\n",
        "\n",
        "print(accuracy_test_nn)"
      ],
      "execution_count": null,
      "outputs": [
        {
          "output_type": "stream",
          "name": "stdout",
          "text": [
            "0.8542713567839196\n"
          ]
        }
      ]
    },
    {
      "cell_type": "markdown",
      "metadata": {
        "id": "HbHMAFvw07hm"
      },
      "source": [
        "**Answer: 0.8542713567839196**"
      ]
    },
    {
      "cell_type": "markdown",
      "metadata": {
        "id": "uMmIfsNEreO3"
      },
      "source": [
        "**Question 2.c**   \n",
        "Neural Networks tend to prefer smaller, normalized feature values. Try taking the log of the `height` feature in both training and testing sets or use a Standard Scalar operation in SKlearn to centre and normalize the data between 0-1 for continuous values. Repeat question 2.a and 2.b with the log version or the normalized and centered version of this feature."
      ]
    },
    {
      "cell_type": "code",
      "metadata": {
        "id": "wDhCZPaU07_8",
        "outputId": "b0758cf7-dc2c-4628-eb33-649147713575",
        "colab": {
          "base_uri": "https://localhost:8080/"
        }
      },
      "source": [
        "# YOUR CODE HERE\n",
        "scaler = StandardScaler()\n",
        "X_train_scaled = scaler.fit_transform(X_train)\n",
        "X_test_scaled = scaler.transform(X_test)\n",
        "\n",
        "\n",
        "clf_scaled = MLPClassifier(hidden_layer_sizes=(10,), activation='logistic', solver='lbfgs', random_state=42)\n",
        "clf_scaled.fit(X_train_scaled, y_train)\n",
        "\n",
        "\n",
        "y_pred_scaled = clf_scaled.predict(X_train_scaled)\n",
        "accuracy_nn_scaled = accuracy_score(y_train, y_pred_scaled)\n",
        "\n",
        "\n",
        "y_pred_test_scaled = clf_scaled.predict(X_test_scaled)\n",
        "accuracy_test_nn_scaled = accuracy_score(y_test, y_pred_test_scaled)\n",
        "\n",
        "print(accuracy_nn_scaled, accuracy_test_nn_scaled)"
      ],
      "execution_count": null,
      "outputs": [
        {
          "output_type": "stream",
          "name": "stdout",
          "text": [
            "0.8439597315436241 0.8542713567839196\n"
          ]
        }
      ]
    },
    {
      "cell_type": "markdown",
      "metadata": {
        "id": "GTO2KMti07__"
      },
      "source": [
        "**Answer (accuracy on training set): 0.8439597315436241**"
      ]
    },
    {
      "cell_type": "markdown",
      "metadata": {
        "id": "ps1JmsR2uXiV"
      },
      "source": [
        "**Answer (accuracy on test set): 0.8542713567839196**"
      ]
    },
    {
      "cell_type": "markdown",
      "metadata": {
        "id": "2_SlOdcarePC"
      },
      "source": [
        "***\n",
        "\n",
        "### Question 3 (1 point) ###\n",
        "Many of the remaining features in the dataset are categorical. No ML method accepts categorical features, so transform `year`, `eyecolor`, `exercise` into a set of binary features, one feature per unique original feature value, and mark the binary feature as ‘1’ if the feature value matches the original value and ‘0’ otherwise. Using only these one-hot transformed features, train and predict the class of the test set. What was your accuracy using a Neural Network with a single 10 node hidden layer?"
      ]
    },
    {
      "cell_type": "code",
      "metadata": {
        "id": "YjhzBFNV1Aip",
        "outputId": "680f8ebf-c51b-4265-d7a4-75a64f611127",
        "colab": {
          "base_uri": "https://localhost:8080/"
        }
      },
      "source": [
        "# YOUR CODE HERE\n",
        "\n",
        "df_train_encoded = pd.get_dummies(df_train[['year', 'eyecolor', 'exercise']])\n",
        "df_test_encoded = pd.get_dummies(df_test[['year', 'eyecolor', 'exercise']])\n",
        "\n",
        "X_train= df_train_encoded\n",
        "X_test = df_test_encoded\n",
        "y_train = df_train['gender'] == 'female'\n",
        "y_test = df_test['gender'] == 'female'\n",
        "\n",
        "clf_encoded = MLPClassifier(hidden_layer_sizes=(10,), activation='logistic', solver='lbfgs', random_state=42)\n",
        "clf_encoded.fit(X_train, y_train)\n",
        "\n",
        "y_pred_test_encoded = clf_encoded.predict(X_test)\n",
        "accuracy_test_nn_encoded = accuracy_score(y_test, y_pred_test_encoded)\n",
        "\n",
        "print(accuracy_test_nn_encoded)"
      ],
      "execution_count": null,
      "outputs": [
        {
          "output_type": "stream",
          "name": "stdout",
          "text": [
            "0.5452261306532663\n"
          ]
        }
      ]
    },
    {
      "cell_type": "markdown",
      "metadata": {
        "id": "PyQ1EvAY1Ait"
      },
      "source": [
        "\n",
        "\n",
        "\n",
        "\n",
        "\n",
        "**Answer: 0.5452261306532663**"
      ]
    },
    {
      "cell_type": "markdown",
      "metadata": {
        "id": "dSSr9sBlrePG"
      },
      "source": [
        "***\n",
        "### Question 4 (3 points)###\n",
        "Using a NN, report the accuracy on the test set of a model that trained only on `height` and the `eyecolor` features of instances in the training set."
      ]
    },
    {
      "cell_type": "markdown",
      "metadata": {
        "id": "rMNSlOmJrePG"
      },
      "source": [
        "**Question 4.a**  \n",
        "What is the accuracy on the test set using the original `height` values (no pre-processing) and `eyecolor` as a one-hot?"
      ]
    },
    {
      "cell_type": "code",
      "metadata": {
        "id": "F_vN4tyv1Ckq",
        "colab": {
          "base_uri": "https://localhost:8080/"
        },
        "outputId": "0cd335e0-c4aa-4c3b-debe-36d3b817a840"
      },
      "source": [
        "# YOUR CODE HERE\n",
        "dummy_train_eyecolor = pd.get_dummies(df_train['eyecolor'])\n",
        "dummy_test_eyecolor = pd.get_dummies(df_test['eyecolor'])\n",
        "\n",
        "\n",
        "X_train_eyecolor = pd.concat([df_train['height'], dummy_train_eyecolor], axis=1)\n",
        "X_test_eyecolor = pd.concat([df_test['height'], dummy_test_eyecolor], axis=1)\n",
        "\n",
        "clf_eyecolor = MLPClassifier(hidden_layer_sizes=(10,), activation='logistic', solver='lbfgs', random_state=42)\n",
        "clf_eyecolor.fit(X_train_eyecolor, y_train)\n",
        "\n",
        "y_pred_test_eyecolor = clf_eyecolor.predict(X_test_eyecolor)\n",
        "accuracy_test_nn_eyecolor = accuracy_score(y_test, y_pred_test_eyecolor)\n",
        "\n",
        "print(accuracy_test_nn_eyecolor)"
      ],
      "execution_count": null,
      "outputs": [
        {
          "output_type": "stream",
          "name": "stdout",
          "text": [
            "0.8618090452261307\n"
          ]
        }
      ]
    },
    {
      "cell_type": "markdown",
      "metadata": {
        "id": "CaL2o0TW1Cks"
      },
      "source": [
        "**Answer: 0.8618090452261307**"
      ]
    },
    {
      "cell_type": "markdown",
      "metadata": {
        "id": "NC8Ipx9QrePH"
      },
      "source": [
        "**Question 4.b**  \n",
        "What is the accuracy on the test set using the log of `height` values (applied to both training and testing sets) and `eyecolor` as a one-hot?"
      ]
    },
    {
      "cell_type": "code",
      "metadata": {
        "id": "cFvzNv6O1DG3",
        "colab": {
          "base_uri": "https://localhost:8080/"
        },
        "outputId": "2ef17ef9-fa4f-44c5-efcf-f3aec1c63c89"
      },
      "source": [
        "# YOUR CODE HERE\n",
        "df_train['log_height'] = np.log(df_train['height'])\n",
        "df_test['log_height'] = np.log(df_test['height'])\n",
        "\n",
        "dummy_train_eyecolor = pd.get_dummies(df_train['eyecolor'])\n",
        "dummy_test_eyecolor = pd.get_dummies(df_test['eyecolor'])\n",
        "\n",
        "\n",
        "X_train_log_eyecolor = pd.concat([df_train['log_height'], dummy_train_eyecolor], axis=1)\n",
        "X_test_log_eyecolor = pd.concat([df_test['log_height'], dummy_test_eyecolor], axis=1)\n",
        "\n",
        "clf_log_eyecolor = MLPClassifier(hidden_layer_sizes=(10,), activation='logistic', solver='lbfgs', random_state=42)\n",
        "clf_log_eyecolor.fit(X_train_log_eyecolor, y_train)\n",
        "\n",
        "y_pred_test_log_eyecolor = clf_log_eyecolor.predict(X_test_log_eyecolor)\n",
        "accuracy_test_nn_log_eyecolor = accuracy_score(y_test, y_pred_test_log_eyecolor)\n",
        "\n",
        "print(accuracy_test_nn_log_eyecolor)"
      ],
      "execution_count": null,
      "outputs": [
        {
          "output_type": "stream",
          "name": "stdout",
          "text": [
            "0.8618090452261307\n"
          ]
        }
      ]
    },
    {
      "cell_type": "markdown",
      "metadata": {
        "id": "Pt3NMp1M1DG4"
      },
      "source": [
        "**Answer: 0.8618090452261307**"
      ]
    },
    {
      "cell_type": "markdown",
      "metadata": {
        "id": "iYm2jqnprePI"
      },
      "source": [
        "**Question 4.c**  \n",
        "What is the accuracy on the test set using the Z-score of `height` values and `eyecolor` as a one-hot?\n",
        "\n",
        "Z-score is a normalization function. It is the value of a feature minus the average value for that feature (in the training set), divided by the standard deviation of that feature (in the training set). Remember that, whenever applying a function to a feature in the training set, it also has to be applied to that same feature in the test set."
      ]
    },
    {
      "cell_type": "code",
      "metadata": {
        "id": "P3mDjF6N1DoN",
        "colab": {
          "base_uri": "https://localhost:8080/"
        },
        "outputId": "ee80c8e9-a3a7-45eb-c135-10688e1a0d72"
      },
      "source": [
        "# YOUR CODE HERE\n",
        "mean_height_train = df_train['height'].mean()\n",
        "std_height_train = df_train['height'].std()\n",
        "\n",
        "df_train['zscore_height'] = (df_train['height'] - mean_height_train) / std_height_train\n",
        "df_test['zscore_height'] = (df_test['height'] - mean_height_train) / std_height_train\n",
        "\n",
        "\n",
        "dummy_train_eyecolor = pd.get_dummies(df_train['eyecolor'])\n",
        "dummy_test_eyecolor = pd.get_dummies(df_test['eyecolor'])\n",
        "\n",
        "X_train_zscore_eyecolor = pd.concat([df_train['zscore_height'], dummy_train_eyecolor], axis=1)\n",
        "X_test_zscore_eyecolor = pd.concat([df_test['zscore_height'], dummy_test_eyecolor], axis=1)\n",
        "\n",
        "clf_zscore_eyecolor = MLPClassifier(hidden_layer_sizes=(10,), activation='logistic', solver='lbfgs', random_state=42)\n",
        "clf_zscore_eyecolor.fit(X_train_zscore_eyecolor, y_train)\n",
        "\n",
        "y_pred_test_zscore_eyecolor = clf_zscore_eyecolor.predict(X_test_zscore_eyecolor)\n",
        "accuracy_test_nn_zscore_eyecolor = accuracy_score(y_test, y_pred_test_zscore_eyecolor)\n",
        "\n",
        "print(accuracy_test_nn_zscore_eyecolor)"
      ],
      "execution_count": null,
      "outputs": [
        {
          "output_type": "stream",
          "name": "stdout",
          "text": [
            "0.8668341708542714\n"
          ]
        }
      ]
    },
    {
      "cell_type": "markdown",
      "metadata": {
        "id": "YAnuY8Sv1DoO"
      },
      "source": [
        "**Answer: 0.8668341708542714**"
      ]
    },
    {
      "cell_type": "markdown",
      "metadata": {
        "id": "Fh9qwu_9rePJ"
      },
      "source": [
        "***\n",
        "### Question 5 (1.5 points) ###\n",
        "Repeat question 4 for `playgames` & `eyecolor`."
      ]
    },
    {
      "cell_type": "markdown",
      "metadata": {
        "id": "II5bc2lGAUDD"
      },
      "source": [
        "**Question 5.a**  \\\\\n",
        "What is the accuracy on the test set using the original `playgames` values (no pre-processing) and `eyecolor` as a one-hot?"
      ]
    },
    {
      "cell_type": "code",
      "metadata": {
        "id": "JAgHz_r-1EMR",
        "colab": {
          "base_uri": "https://localhost:8080/"
        },
        "outputId": "d8d850c5-2308-4c57-db96-8b5d5a2acbc6"
      },
      "source": [
        "# YOUR CODE HERE\n",
        "dummy_train_eyecolor = pd.get_dummies(df_train['eyecolor'])\n",
        "dummy_test_eyecolor = pd.get_dummies(df_test['eyecolor'])\n",
        "\n",
        "X_train_playgames_eyecolor = pd.concat([df_train['playgames'], dummy_train_eyecolor], axis=1)\n",
        "X_test_playgames_eyecolor = pd.concat([df_test['playgames'], dummy_test_eyecolor], axis=1)\n",
        "\n",
        "clf_playgames_eyecolor = MLPClassifier(hidden_layer_sizes=(10,), activation='logistic', solver='lbfgs', random_state=42)\n",
        "clf_playgames_eyecolor.fit(X_train_playgames_eyecolor, y_train)\n",
        "\n",
        "y_pred_test_playgames_eyecolor = clf_playgames_eyecolor.predict(X_test_playgames_eyecolor)\n",
        "accuracy_test_nn_playgames_eyecolor = accuracy_score(y_test, y_pred_test_playgames_eyecolor)\n",
        "\n",
        "print(accuracy_test_nn_playgames_eyecolor)"
      ],
      "execution_count": null,
      "outputs": [
        {
          "output_type": "stream",
          "name": "stdout",
          "text": [
            "0.678391959798995\n"
          ]
        }
      ]
    },
    {
      "cell_type": "markdown",
      "metadata": {
        "id": "gNqB2UTxAm9l"
      },
      "source": [
        "**Answer: 0.678391959798995**"
      ]
    },
    {
      "cell_type": "markdown",
      "metadata": {
        "id": "-EUk8EFdAeD1"
      },
      "source": [
        "**Question 5.b**  \\\\\n",
        "What is the accuracy on the test set using the log of `playgames` values (applied to both training and testing sets) and `eyecolor` as a one-hot?\n",
        "\n",
        "Note: You can drop rows that have 0 in the `playgames` column, in order to avoid -inf values when applying log."
      ]
    },
    {
      "cell_type": "code",
      "metadata": {
        "id": "TBoi2u6hAjAB",
        "colab": {
          "base_uri": "https://localhost:8080/"
        },
        "outputId": "90b1edc3-5c78-4b2b-a110-31392f2edba5"
      },
      "source": [
        "# YOUR CODE HERE\n",
        "df_train = df_train[df_train['playgames'] != 0]\n",
        "df_test = df_test[df_test['playgames'] != 0]\n",
        "\n",
        "y_train = df_train['gender'] == 'female'\n",
        "y_test = df_test['gender'] == 'female'\n",
        "\n",
        "df_train['log_playgames'] = np.log(df_train['playgames'])\n",
        "df_test['log_playgames'] = np.log(df_test['playgames'])\n",
        "\n",
        "dummy_train_eyecolor = pd.get_dummies(df_train['eyecolor'])\n",
        "dummy_test_eyecolor = pd.get_dummies(df_test['eyecolor'])\n",
        "\n",
        "X_train_log_playgames_eyecolor = pd.concat([df_train['log_playgames'], dummy_train_eyecolor], axis=1)\n",
        "X_test_log_playgames_eyecolor = pd.concat([df_test['log_playgames'], dummy_test_eyecolor], axis=1)\n",
        "\n",
        "clf_log_playgames_eyecolor = MLPClassifier(hidden_layer_sizes=(10,), activation='logistic', solver='lbfgs', random_state=42)\n",
        "clf_log_playgames_eyecolor.fit(X_train_log_playgames_eyecolor, y_train)\n",
        "\n",
        "y_pred_test_log_playgames_eyecolor = clf_log_playgames_eyecolor.predict(X_test_log_playgames_eyecolor)\n",
        "accuracy_test_nn_log_playgames_eyecolor = accuracy_score(y_test, y_pred_test_log_playgames_eyecolor)\n",
        "\n",
        "print(accuracy_test_nn_log_playgames_eyecolor)"
      ],
      "execution_count": null,
      "outputs": [
        {
          "output_type": "stream",
          "name": "stdout",
          "text": [
            "0.6300813008130082\n"
          ]
        }
      ]
    },
    {
      "cell_type": "markdown",
      "metadata": {
        "id": "a2C9_xTUAnaU"
      },
      "source": [
        "**Answer: 0.6300813008130082**"
      ]
    },
    {
      "cell_type": "markdown",
      "metadata": {
        "id": "eqf-3iQ1Aebj"
      },
      "source": [
        "**Question 5.c** \\\\\n",
        "What is the accuracy on the test set using the Z-score of `playgames` values and `eyecolor` as a one-hot?"
      ]
    },
    {
      "cell_type": "code",
      "metadata": {
        "id": "zSNSl76eAkKz",
        "colab": {
          "base_uri": "https://localhost:8080/"
        },
        "outputId": "6ab3de64-023b-4a15-9048-9c29eccfbeee"
      },
      "source": [
        "# YOUR CODE HERE\n",
        "mean_playgames_train = df_train['playgames'].mean()\n",
        "std_playgames_train = df_train['playgames'].std()\n",
        "\n",
        "df_train['zscore_playgames'] = (df_train['playgames'] - mean_playgames_train) / std_playgames_train\n",
        "df_test['zscore_playgames'] = (df_test['playgames'] - mean_playgames_train) / std_playgames_train\n",
        "\n",
        "dummy_train_eyecolor = pd.get_dummies(df_train['eyecolor'])\n",
        "dummy_test_eyecolor = pd.get_dummies(df_test['eyecolor'])\n",
        "\n",
        "X_train_zscore_playgames_eyecolor = pd.concat([df_train['zscore_playgames'], dummy_train_eyecolor], axis=1)\n",
        "X_test_zscore_playgames_eyecolor = pd.concat([df_test['zscore_playgames'], dummy_test_eyecolor], axis=1)\n",
        "\n",
        "clf_zscore_playgames_eyecolor = MLPClassifier(hidden_layer_sizes=(10,), activation='logistic', solver='lbfgs', random_state=42)\n",
        "clf_zscore_playgames_eyecolor.fit(X_train_zscore_playgames_eyecolor, y_train)\n",
        "\n",
        "y_pred_test_zscore_playgames_eyecolor = clf_zscore_playgames_eyecolor.predict(X_test_zscore_playgames_eyecolor)\n",
        "accuracy_test_nn_zscore_playgames_eyecolor = accuracy_score(y_test, y_pred_test_zscore_playgames_eyecolor)\n",
        "\n",
        "print(accuracy_test_nn_zscore_playgames_eyecolor)"
      ],
      "execution_count": null,
      "outputs": [
        {
          "output_type": "stream",
          "name": "stdout",
          "text": [
            "0.6463414634146342\n"
          ]
        }
      ]
    },
    {
      "cell_type": "markdown",
      "metadata": {
        "id": "ZlDfGvy61EMS"
      },
      "source": [
        "**Answer: 0.6463414634146342**"
      ]
    },
    {
      "cell_type": "markdown",
      "metadata": {
        "id": "JYVuaPWgrePL"
      },
      "source": [
        "***\n",
        "### Question 6 (2 points)###\n",
        "Combine the features from question 3, 4, and 5 (`year`, `eyecolor`, `exercise`, `height`, `playgames`). For numeric features use the best normalization method from questions 4 and 5."
      ]
    },
    {
      "cell_type": "markdown",
      "metadata": {
        "id": "1iAiFhlFrePM"
      },
      "source": [
        "**Question 6.a**   \n",
        "What was the NN accuracy on the test set using the single 10 node hidden layer?"
      ]
    },
    {
      "cell_type": "code",
      "metadata": {
        "id": "QuLJ6sTB1FfN",
        "colab": {
          "base_uri": "https://localhost:8080/"
        },
        "outputId": "c4692ba7-2732-408e-94be-93caf4807d60"
      },
      "source": [
        "# YOUR CODE HERE\n",
        "\n",
        "dummy_train = pd.get_dummies(df_train[['year', 'eyecolor', 'exercise']])\n",
        "dummy_test = pd.get_dummies(df_test[['year', 'eyecolor', 'exercise']])\n",
        "\n",
        "df_train['zscore_playgames'] = (df_train['playgames'] - mean_playgames_train) / std_playgames_train\n",
        "df_test['zscore_playgames'] = (df_test['playgames'] - mean_playgames_train) / std_playgames_train\n",
        "\n",
        "df_train['log_height'] = np.log(df_train['height'])\n",
        "df_test['log_height'] = np.log(df_test['height'])\n",
        "\n",
        "X_train_combined = pd.concat([df_train['log_height'], df_train['zscore_playgames'], dummy_train], axis=1)\n",
        "X_test_combined = pd.concat([df_test['log_height'], df_test['zscore_playgames'], dummy_test], axis=1)\n",
        "\n",
        "clf_combined = MLPClassifier(hidden_layer_sizes=(10,), activation='logistic', solver='lbfgs', random_state=42)\n",
        "clf_combined.fit(X_train_combined, y_train)\n",
        "\n",
        "y_pred_test_combined = clf_combined.predict(X_test_combined)\n",
        "accuracy_test_nn_combined = accuracy_score(y_test, y_pred_test_combined)\n",
        "\n",
        "print(accuracy_test_nn_combined)"
      ],
      "execution_count": null,
      "outputs": [
        {
          "output_type": "stream",
          "name": "stdout",
          "text": [
            "0.7967479674796748\n"
          ]
        }
      ]
    },
    {
      "cell_type": "markdown",
      "metadata": {
        "id": "1foS74O01FfP"
      },
      "source": [
        "**Answer: 0.7967479674796748**"
      ]
    },
    {
      "cell_type": "markdown",
      "metadata": {
        "id": "Jusc-kofrePP"
      },
      "source": [
        "***\n",
        "### Question 7- Bonus (1 point)###\n",
        "Can you improve your test set prediction accuracy by 3% or more? See how close to that milestone of improvement you can get by modifying the hyperparameters of  Neural Networks (the number of hidden layers, number of hidden nodes in each layer, the learning rate, the type of activation function etc.).\n",
        "\n",
        "A great guide to tuning parameters is explained in this guide: http://www.csie.ntu.edu.tw/~cjlin/papers/guide/guide.pdf. While the guide is specific to SVM and in particular the C and gamma parameters of the RBF kernel, the method applies more generally to any ML technique with tuning parameters.\n",
        "\n",
        "Please give your new prediction accuracy on the test set, and write a paragraph in a text cell below with an explanation of your approach and evaluation metrics.\n"
      ]
    },
    {
      "cell_type": "code",
      "metadata": {
        "id": "qvpoUdeq1GsX",
        "colab": {
          "base_uri": "https://localhost:8080/"
        },
        "outputId": "d219181c-c7ca-457f-fb1c-316c98f89614"
      },
      "source": [
        "# YOUR CODE HERE\n",
        "\n",
        "param_grid = {\n",
        "    'hidden_layer_sizes': [(10,), (20,), (30,), (10, 10), (20, 20)],\n",
        "    'activation': ['logistic', 'relu', 'tanh'],\n",
        "    'solver': ['lbfgs', 'adam'],\n",
        "    'learning_rate_init': [0.001, 0.01, 0.1],\n",
        "    'max_iter': [100, 200, 300]\n",
        "}\n",
        "\n",
        "\n",
        "grid_search = GridSearchCV(MLPClassifier(random_state=42), param_grid, cv=5, scoring='accuracy', verbose=1, n_jobs=-1)\n",
        "\n",
        "\n",
        "grid_search.fit(X_train_combined, y_train)\n",
        "\n",
        "\n",
        "best_params = grid_search.best_params_\n",
        "\n",
        "\n",
        "clf_best = MLPClassifier(**best_params, random_state=42)\n",
        "clf_best.fit(X_train_combined, y_train)\n",
        "\n",
        "\n",
        "y_pred_test_best = clf_best.predict(X_test_combined)\n",
        "accuracy_test_nn_best = accuracy_score(y_test, y_pred_test_best)\n",
        "\n",
        "print(accuracy_test_nn_best)"
      ],
      "execution_count": null,
      "outputs": [
        {
          "output_type": "stream",
          "name": "stdout",
          "text": [
            "Fitting 5 folds for each of 270 candidates, totalling 1350 fits\n",
            "0.8211382113821138\n"
          ]
        }
      ]
    },
    {
      "cell_type": "markdown",
      "metadata": {
        "id": "2rFY8D4Q1GsZ"
      },
      "source": [
        "**Answer: 0.8211382113821138**"
      ]
    },
    {
      "cell_type": "markdown",
      "source": [
        "**Explanation: To improve the accuracy of the neural network model, I utilized grid search with cross-validation. This method systematically works through multiple combinations of hyperparameter tunes, cross-validating as it goes to determine which tune gives the best performance. The hyperparameters we tuned include the number of hidden layers, number of hidden nodes in each layer, the learning rate, the type of activation function, and the solver. By optimizing these hyperparameters, we were able to achieve a better model performance on the test set compared to the initial model.**"
      ],
      "metadata": {
        "id": "WwQ1o2BZDtKM"
      }
    },
    {
      "cell_type": "code",
      "source": [],
      "metadata": {
        "id": "XuDr9sp4cGVN"
      },
      "execution_count": null,
      "outputs": []
    }
  ]
}